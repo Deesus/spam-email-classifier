{
 "cells": [
  {
   "cell_type": "markdown",
   "metadata": {
    "collapsed": false
   },
   "source": [
    "# Spam Email Classification\n",
    "\n",
    "In this notebook, we will build an email spam classifier using the \"Enron\" datasets of the [Harvard email datasets for cross dataset experiments](https://dataverse.harvard.edu/dataset.xhtml?persistentId=doi:10.7910/DVN/V7IFSM). The Harvard datasets is an eclectic collection of email datasets, among them are 6 datasets of emails from employees of [Enron Corporation](https://en.wikipedia.org/wiki/Enron).\n",
    "\n",
    "We will experiment with a couple of \"conventional\" ML models and finally conclude with a more sophisticated neural network -- and see which of these models can successfully classify spam/non-spam emails and discern which model performs the best for our given dataset."
   ]
  },
  {
   "cell_type": "code",
   "execution_count": 2,
   "metadata": {
    "collapsed": false
   },
   "outputs": [],
   "source": [
    "import pandas as pd\n",
    "import glob\n",
    "import matplotlib.pyplot as plt\n",
    "import numpy as np\n",
    "import spacy\n",
    "from xgboost import XGBClassifier\n",
    "\n",
    "from sklearn.svm import LinearSVC\n",
    "from sklearn.pipeline import Pipeline\n",
    "from sklearn.feature_extraction.text import TfidfVectorizer\n",
    "from sklearn.metrics import classification_report, f1_score, accuracy_score\n",
    "\n",
    "from datasets import Dataset\n",
    "from transformers import AutoTokenizer, DataCollatorWithPadding, TFAutoModelForSequenceClassification\n",
    "import tensorflow as tf"
   ]
  },
  {
   "cell_type": "markdown",
   "metadata": {},
   "source": [
    "## Read files:\n",
    "\n",
    "Each of the Enron datasets is composed of `spam/` and `ham/` folders, where `spam/` contains spam emails (.txt files) and `ham/` contains non-spam emails. We'll first consolidate all the spam and ham text files into a single `spam/` and `ham/` folder.\n",
    "\n",
    "Upon examination, we also notice that some of the documents are encoded in ISO-8859, which will cause issues as we try to process the data. We'll need to convert these files to UTF-8 or ASCII. One way we can convert the encoding is using Linux's `inconv` package, which is pre-installed in most distros.\n",
    "\n",
    "The Bash syntax for converting a textfile, `FILE_NAME.txt`, to UTF-8 is as follows:\n",
    "```bash\n",
    "iconv -f ISO-8859-1 -t UTF-8//TRANSLIT FILE_NAME.txt -o FILE_NAME.txt\n",
    "```"
   ]
  },
  {
   "cell_type": "markdown",
   "metadata": {
    "collapsed": false
   },
   "source": [
    "We'll now read all the files and store the text as a Pandas DataFrame. Since our emails are already split into `spam/` and `ham/` folders, we can simultaneously (and easily) label our data based on which folder we're reading from. We'll use `1` to delineate spam and `0` as non-spam emails.\n",
    "\n",
    "In this particular dataset, all the email headers (other than the _Subject_) have already been removed. We also want to keep the _Subject_ header because it often contains useful information. So there's no pre-processing to be done at this step."
   ]
  },
  {
   "cell_type": "markdown",
   "metadata": {
    "collapsed": false
   },
   "source": [
    "##### Read and save spam documents into a DataFrame:"
   ]
  },
  {
   "cell_type": "code",
   "execution_count": 55,
   "metadata": {
    "execution": {
     "iopub.execute_input": "2022-10-07T03:50:32.282028Z",
     "iopub.status.busy": "2022-10-07T03:50:32.280763Z",
     "iopub.status.idle": "2022-10-07T03:50:32.290740Z",
     "shell.execute_reply": "2022-10-07T03:50:32.289922Z",
     "shell.execute_reply.started": "2022-10-07T03:50:32.281989Z"
    }
   },
   "outputs": [],
   "source": [
    "spam_file_paths = glob.iglob('../data/data/spam/**')\n",
    "df_spam = pd.DataFrame(columns=['text', 'label'])"
   ]
  },
  {
   "cell_type": "code",
   "execution_count": 56,
   "metadata": {
    "execution": {
     "iopub.execute_input": "2022-10-07T03:50:32.292586Z",
     "iopub.status.busy": "2022-10-07T03:50:32.292167Z",
     "iopub.status.idle": "2022-10-07T03:51:02.250826Z",
     "shell.execute_reply": "2022-10-07T03:51:02.249859Z",
     "shell.execute_reply.started": "2022-10-07T03:50:32.292552Z"
    }
   },
   "outputs": [],
   "source": [
    "for file_path in spam_file_paths:\n",
    "    text = ''\n",
    "    with open(file_path, 'r') as file:\n",
    "        for line in file:\n",
    "            text += line\n",
    "        df_spam = pd.concat([df_spam, pd.DataFrame({'text': text, 'label': [1]})], ignore_index=True)"
   ]
  },
  {
   "cell_type": "code",
   "execution_count": 57,
   "metadata": {
    "execution": {
     "iopub.execute_input": "2022-10-07T03:51:02.252451Z",
     "iopub.status.busy": "2022-10-07T03:51:02.252110Z",
     "iopub.status.idle": "2022-10-07T03:51:02.263313Z",
     "shell.execute_reply": "2022-10-07T03:51:02.262347Z",
     "shell.execute_reply.started": "2022-10-07T03:51:02.252417Z"
    }
   },
   "outputs": [
    {
     "data": {
      "text/html": [
       "<div>\n",
       "<style scoped>\n",
       "    .dataframe tbody tr th:only-of-type {\n",
       "        vertical-align: middle;\n",
       "    }\n",
       "\n",
       "    .dataframe tbody tr th {\n",
       "        vertical-align: top;\n",
       "    }\n",
       "\n",
       "    .dataframe thead th {\n",
       "        text-align: right;\n",
       "    }\n",
       "</style>\n",
       "<table border=\"1\" class=\"dataframe\">\n",
       "  <thead>\n",
       "    <tr style=\"text-align: right;\">\n",
       "      <th></th>\n",
       "      <th>text</th>\n",
       "      <th>label</th>\n",
       "    </tr>\n",
       "  </thead>\n",
       "  <tbody>\n",
       "    <tr>\n",
       "      <th>0</th>\n",
       "      <td>Subject: netgoodssale . com - electronic produ...</td>\n",
       "      <td>1</td>\n",
       "    </tr>\n",
       "    <tr>\n",
       "      <th>1</th>\n",
       "      <td>Subject: failure notice\\nhi . this is the qmai...</td>\n",
       "      <td>1</td>\n",
       "    </tr>\n",
       "    <tr>\n",
       "      <th>2</th>\n",
       "      <td>Subject: popular mechanics : do you need a fri...</td>\n",
       "      <td>1</td>\n",
       "    </tr>\n",
       "    <tr>\n",
       "      <th>3</th>\n",
       "      <td>Subject: \\nhtml\\nbody\\npfont face = arialbufon...</td>\n",
       "      <td>1</td>\n",
       "    </tr>\n",
       "    <tr>\n",
       "      <th>4</th>\n",
       "      <td>Subject: why pay more when you can pay less ! ...</td>\n",
       "      <td>1</td>\n",
       "    </tr>\n",
       "  </tbody>\n",
       "</table>\n",
       "</div>"
      ],
      "text/plain": [
       "                                                text label\n",
       "0  Subject: netgoodssale . com - electronic produ...     1\n",
       "1  Subject: failure notice\\nhi . this is the qmai...     1\n",
       "2  Subject: popular mechanics : do you need a fri...     1\n",
       "3  Subject: \\nhtml\\nbody\\npfont face = arialbufon...     1\n",
       "4  Subject: why pay more when you can pay less ! ...     1"
      ]
     },
     "execution_count": 57,
     "metadata": {},
     "output_type": "execute_result"
    }
   ],
   "source": [
    "df_spam.head()"
   ]
  },
  {
   "cell_type": "markdown",
   "metadata": {},
   "source": [
    "##### Read and save ham documents into a DataFrame:\n"
   ]
  },
  {
   "cell_type": "code",
   "execution_count": 58,
   "metadata": {
    "execution": {
     "iopub.execute_input": "2022-10-07T03:51:02.267652Z",
     "iopub.status.busy": "2022-10-07T03:51:02.266876Z",
     "iopub.status.idle": "2022-10-07T03:51:02.274793Z",
     "shell.execute_reply": "2022-10-07T03:51:02.273930Z",
     "shell.execute_reply.started": "2022-10-07T03:51:02.267617Z"
    }
   },
   "outputs": [],
   "source": [
    "ham_file_paths = glob.iglob('../data/data/ham/**')\n",
    "df_ham = pd.DataFrame(columns=['text', 'label'])"
   ]
  },
  {
   "cell_type": "code",
   "execution_count": 59,
   "metadata": {
    "execution": {
     "iopub.execute_input": "2022-10-07T03:51:02.276808Z",
     "iopub.status.busy": "2022-10-07T03:51:02.276416Z",
     "iopub.status.idle": "2022-10-07T03:51:30.770403Z",
     "shell.execute_reply": "2022-10-07T03:51:30.769446Z",
     "shell.execute_reply.started": "2022-10-07T03:51:02.276773Z"
    }
   },
   "outputs": [],
   "source": [
    "for file_path in ham_file_paths:\n",
    "    text = ''\n",
    "    with open(file_path, 'r') as file:\n",
    "        for line in file:\n",
    "            text += line\n",
    "\n",
    "        df_ham = pd.concat([df_ham, pd.DataFrame({'text': text, 'label': [0]})], ignore_index=True)"
   ]
  },
  {
   "cell_type": "code",
   "execution_count": 60,
   "metadata": {
    "execution": {
     "iopub.execute_input": "2022-10-07T03:51:30.772299Z",
     "iopub.status.busy": "2022-10-07T03:51:30.771943Z",
     "iopub.status.idle": "2022-10-07T03:51:30.781575Z",
     "shell.execute_reply": "2022-10-07T03:51:30.780684Z",
     "shell.execute_reply.started": "2022-10-07T03:51:30.772263Z"
    }
   },
   "outputs": [
    {
     "data": {
      "text/html": [
       "<div>\n",
       "<style scoped>\n",
       "    .dataframe tbody tr th:only-of-type {\n",
       "        vertical-align: middle;\n",
       "    }\n",
       "\n",
       "    .dataframe tbody tr th {\n",
       "        vertical-align: top;\n",
       "    }\n",
       "\n",
       "    .dataframe thead th {\n",
       "        text-align: right;\n",
       "    }\n",
       "</style>\n",
       "<table border=\"1\" class=\"dataframe\">\n",
       "  <thead>\n",
       "    <tr style=\"text-align: right;\">\n",
       "      <th></th>\n",
       "      <th>text</th>\n",
       "      <th>label</th>\n",
       "    </tr>\n",
       "  </thead>\n",
       "  <tbody>\n",
       "    <tr>\n",
       "      <th>0</th>\n",
       "      <td>Subject: re : wolf - reply - reply - reply\\nwr...</td>\n",
       "      <td>0</td>\n",
       "    </tr>\n",
       "    <tr>\n",
       "      <th>1</th>\n",
       "      <td>Subject: hilcorp old ocean\\ni have continued t...</td>\n",
       "      <td>0</td>\n",
       "    </tr>\n",
       "    <tr>\n",
       "      <th>2</th>\n",
       "      <td>Subject: merchanting metals update\\nseveral re...</td>\n",
       "      <td>0</td>\n",
       "    </tr>\n",
       "    <tr>\n",
       "      <th>3</th>\n",
       "      <td>Subject: meter 6461 , concorde churchill\\none ...</td>\n",
       "      <td>0</td>\n",
       "    </tr>\n",
       "    <tr>\n",
       "      <th>4</th>\n",
       "      <td>Subject: weekly deal report\\nattached is the w...</td>\n",
       "      <td>0</td>\n",
       "    </tr>\n",
       "  </tbody>\n",
       "</table>\n",
       "</div>"
      ],
      "text/plain": [
       "                                                text label\n",
       "0  Subject: re : wolf - reply - reply - reply\\nwr...     0\n",
       "1  Subject: hilcorp old ocean\\ni have continued t...     0\n",
       "2  Subject: merchanting metals update\\nseveral re...     0\n",
       "3  Subject: meter 6461 , concorde churchill\\none ...     0\n",
       "4  Subject: weekly deal report\\nattached is the w...     0"
      ]
     },
     "execution_count": 60,
     "metadata": {},
     "output_type": "execute_result"
    }
   ],
   "source": [
    "df_ham.head()"
   ]
  },
  {
   "cell_type": "markdown",
   "metadata": {
    "collapsed": false
   },
   "source": [
    "We'll now combine the spam and ham examples and split the data into train and test sets.\n",
    "\n",
    "Our dataset consists of 33,716 examples, and we'll set aside 10% of that for our test set. (We'll set aside a portion for our validation set later.)"
   ]
  },
  {
   "cell_type": "code",
   "execution_count": 63,
   "metadata": {
    "collapsed": false
   },
   "outputs": [],
   "source": [
    "combined_dataset = pd.concat([df_ham, df_spam])\n",
    "\n",
    "# Shuffle data:\n",
    "combined_dataset = combined_dataset.sample(frac=1)"
   ]
  },
  {
   "cell_type": "code",
   "execution_count": 64,
   "metadata": {
    "execution": {
     "iopub.execute_input": "2022-10-07T03:51:30.989034Z",
     "iopub.status.busy": "2022-10-07T03:51:30.988653Z",
     "iopub.status.idle": "2022-10-07T03:51:30.994936Z",
     "shell.execute_reply": "2022-10-07T03:51:30.993928Z",
     "shell.execute_reply.started": "2022-10-07T03:51:30.988992Z"
    }
   },
   "outputs": [],
   "source": [
    "train_test_split = int(len(combined_dataset) * 0.9)\n",
    "\n",
    "train_set = combined_dataset[:train_test_split]\n",
    "test_set = combined_dataset[train_test_split:]"
   ]
  },
  {
   "cell_type": "code",
   "execution_count": 65,
   "metadata": {
    "execution": {
     "iopub.execute_input": "2022-10-07T03:51:30.996961Z",
     "iopub.status.busy": "2022-10-07T03:51:30.996588Z",
     "iopub.status.idle": "2022-10-07T03:51:31.930626Z",
     "shell.execute_reply": "2022-10-07T03:51:31.929258Z",
     "shell.execute_reply.started": "2022-10-07T03:51:30.996921Z"
    }
   },
   "outputs": [],
   "source": [
    "# Save data as csv:\n",
    "train_set.to_csv('../data/train_set.csv', index=False)\n",
    "test_set.to_csv('../data/test_set.csv', index=False)"
   ]
  },
  {
   "cell_type": "markdown",
   "metadata": {
    "collapsed": false
   },
   "source": [
    "## Explore Data:\n",
    "\n",
    "Let's get a better understanding of our data.\n",
    "\n",
    "We'll notice that our dataset fairly balanced, and that we have a sufficient number of both spam and ham examples for our ML models."
   ]
  },
  {
   "cell_type": "code",
   "execution_count": 62,
   "metadata": {
    "collapsed": false
   },
   "outputs": [
    {
     "data": {
      "image/png": "[encoded data removed]",
      "text/plain": [
       "<Figure size 576x576 with 1 Axes>"
      ]
     },
     "metadata": {
      "needs_background": "light"
     },
     "output_type": "display_data"
    }
   ],
   "source": [
    "# Plot document count:\n",
    "\n",
    "# Set size of plot:\n",
    "plt.rcParams[\"figure.figsize\"] = (8, 8)\n",
    "\n",
    "fig, ax = plt.subplots()\n",
    "ax.bar(\n",
    "    ['Ham', 'Spam'],\n",
    "    [len(df_ham), len(df_spam)],\n",
    "    color='blue',\n",
    "    alpha=0.72\n",
    ")\n",
    "\n",
    "plt.title('Document Count')\n",
    "plt.xlabel('Category')\n",
    "plt.ylabel('Number of examples')\n",
    "plt.show()"
   ]
  },
  {
   "cell_type": "code",
   "execution_count": 66,
   "metadata": {
    "execution": {
     "iopub.execute_input": "2022-10-07T03:51:31.932617Z",
     "iopub.status.busy": "2022-10-07T03:51:31.932049Z",
     "iopub.status.idle": "2022-10-07T03:51:31.939716Z",
     "shell.execute_reply": "2022-10-07T03:51:31.938676Z",
     "shell.execute_reply.started": "2022-10-07T03:51:31.932569Z"
    }
   },
   "outputs": [
    {
     "name": "stdout",
     "output_type": "stream",
     "text": [
      "Ham Count: 16545\n",
      "Spam Count: 17171\n",
      "Total: 33716\n"
     ]
    }
   ],
   "source": [
    "len_ham = len(df_ham)\n",
    "len_spam = len(df_spam)\n",
    "print('Ham Count:', len_ham)\n",
    "print('Spam Count:', len_spam)\n",
    "print('Total:', len_spam + len_ham)"
   ]
  },
  {
   "cell_type": "markdown",
   "metadata": {
    "collapsed": false
   },
   "source": [
    "We'll also take a look at the size (character length) of individual emails. Upon doing so, we'll notice that most of the emails are 720 characters or less. For comparison, a 500-word essay is approximately 3,000 - 3,500 characters. The largest document is an absurd 22,8377 characters in length. Since we will be creating a neural network (transformer), we will need our inputs to all be the same length (via truncating and padding). An input length of 22,000+ is far too large for such a model, so we will need to decide a max input length for truncation. Let's use 2,000 as the character limit -- only 19.25% of our data is larger than that size, and even if we lose information after truncation, we really should be able to discern whether the email is spam or not by the 2,000 character mark."
   ]
  },
  {
   "cell_type": "code",
   "execution_count": 67,
   "metadata": {
    "execution": {
     "iopub.execute_input": "2022-10-07T03:51:31.945382Z",
     "iopub.status.busy": "2022-10-07T03:51:31.945094Z",
     "iopub.status.idle": "2022-10-07T03:51:31.968187Z",
     "shell.execute_reply": "2022-10-07T03:51:31.967137Z",
     "shell.execute_reply.started": "2022-10-07T03:51:31.945356Z"
    }
   },
   "outputs": [
    {
     "name": "stdout",
     "output_type": "stream",
     "text": [
      "Total number of examples: 33716\n",
      "Max length of document: 228377\n",
      "Avg length of documents: 1514\n",
      "Median length of documents: 720\n",
      "Std of document length: 4276\n"
     ]
    }
   ],
   "source": [
    "map_len = combined_dataset['text'].map(len)\n",
    "max_length = map_len.max()\n",
    "avg_length = map_len.sum() // len(combined_dataset)\n",
    "median_length = int(map_len.median())\n",
    "std_length = int(map_len.std())\n",
    "\n",
    "print('Total number of examples:', len(combined_dataset))\n",
    "print('Max length of document:', max_length)\n",
    "print('Avg length of documents:', avg_length)\n",
    "print('Median length of documents:', median_length)\n",
    "print('Std of document length:', std_length)"
   ]
  },
  {
   "cell_type": "code",
   "execution_count": 68,
   "metadata": {
    "execution": {
     "iopub.execute_input": "2022-10-07T03:51:31.970336Z",
     "iopub.status.busy": "2022-10-07T03:51:31.969785Z",
     "iopub.status.idle": "2022-10-07T03:51:31.990325Z",
     "shell.execute_reply": "2022-10-07T03:51:31.989420Z",
     "shell.execute_reply.started": "2022-10-07T03:51:31.970301Z"
    }
   },
   "outputs": [
    {
     "name": "stdout",
     "output_type": "stream",
     "text": [
      "Percent of documents that have character length greater than 2,000: 19.25%\n"
     ]
    }
   ],
   "source": [
    "MAX_CHAR_LENGTH = 2000\n",
    "\n",
    "percent_docs_over_2000 = combined_dataset['text'].map(lambda x: len(x) > MAX_CHAR_LENGTH).sum() / len(combined_dataset)\n",
    "print(f'Percent of documents that have character length greater than 2,000: {percent_docs_over_2000 * 100:.2f}%')"
   ]
  },
  {
   "cell_type": "markdown",
   "metadata": {
    "collapsed": false
   },
   "source": [
    "## Process Data:\n",
    "\n",
    "We will vectorize all the documents using TF-IDF (term frequency–inverse document frequency), which calculates the frequency of a word in a document (and reduces the weight of common words). Scikit-learn has the built-in [TfidfVectorizer](https://scikit-learn.org/stable/modules/generated/sklearn.feature_extraction.text.TfidfVectorizer.html) that does exactly this. But before we feed vectorized documents into our model pipeline, we should remove stop words from the documents -- we will use [spaCy](https://spacy.io/) for that."
   ]
  },
  {
   "cell_type": "code",
   "execution_count": 3,
   "metadata": {
    "collapsed": false
   },
   "outputs": [],
   "source": [
    "# We only need lemmatizer from spaCy; see <https://spacy.io/usage/processing-pipelines#disabling>\n",
    "nlp = spacy.load('en_core_web_trf',\n",
    "                 disable=['tagger', 'parser', 'ner', 'entity_linker', 'entity_ruler', 'textcat', 'textcat_multilabel',\n",
    "                          'attribute_ruler', 'senter', 'sentencizer', 'tok2vec', 'transformer']\n",
    "                 )"
   ]
  },
  {
   "cell_type": "code",
   "execution_count": 4,
   "metadata": {
    "collapsed": false
   },
   "outputs": [],
   "source": [
    "# Remove stop words (parameter scaling):\n",
    "spacy_stopwords = spacy.lang.en.stop_words.STOP_WORDS"
   ]
  },
  {
   "cell_type": "markdown",
   "metadata": {
    "collapsed": false
   },
   "source": [
    "Finally, we need to split train and test data into x and y (e.g. `x_train` and `y_train`):"
   ]
  },
  {
   "cell_type": "code",
   "execution_count": 8,
   "metadata": {
    "collapsed": false
   },
   "outputs": [],
   "source": [
    "x_train = train_set['text']\n",
    "y_train = train_set['label']\n",
    "\n",
    "x_test = test_set['text']\n",
    "y_test = test_set['label']"
   ]
  },
  {
   "cell_type": "code",
   "execution_count": 20,
   "metadata": {
    "collapsed": false
   },
   "outputs": [
    {
     "name": "stdout",
     "output_type": "stream",
     "text": [
      "Train size: 30344\n",
      "Test size: 3372\n"
     ]
    }
   ],
   "source": [
    "print('Train size:', len(x_train))\n",
    "print('Test size:', len(x_test))"
   ]
  },
  {
   "cell_type": "markdown",
   "metadata": {
    "collapsed": false
   },
   "source": [
    "## Support Vector Machine:\n",
    "Since machine learning is an iterative process, we will try a couple of \"conventional\" machine learning models and see how well they perform in spam classification. We'll first try Linear Support Vector Classification, a standard text classification model. To measure the performance of the model, we'll use both accuracy and F1 score."
   ]
  },
  {
   "cell_type": "code",
   "execution_count": 9,
   "metadata": {
    "collapsed": false
   },
   "outputs": [
    {
     "name": "stderr",
     "output_type": "stream",
     "text": [
      "/home/deesus/.miniconda3/envs/ml/lib/python3.10/site-packages/sklearn/feature_extraction/text.py:404: UserWarning: Your stop_words may be inconsistent with your preprocessing. Tokenizing the stop words generated tokens ['ll', 've'] not in stop_words.\n",
      "  warnings.warn(\n"
     ]
    },
    {
     "data": {
      "text/html": [
       "<style>#sk-container-id-1 {color: black;background-color: white;}#sk-container-id-1 pre{padding: 0;}#sk-container-id-1 div.sk-toggleable {background-color: white;}#sk-container-id-1 label.sk-toggleable__label {cursor: pointer;display: block;width: 100%;margin-bottom: 0;padding: 0.3em;box-sizing: border-box;text-align: center;}#sk-container-id-1 label.sk-toggleable__label-arrow:before {content: \"▸\";float: left;margin-right: 0.25em;color: #696969;}#sk-container-id-1 label.sk-toggleable__label-arrow:hover:before {color: black;}#sk-container-id-1 div.sk-estimator:hover label.sk-toggleable__label-arrow:before {color: black;}#sk-container-id-1 div.sk-toggleable__content {max-height: 0;max-width: 0;overflow: hidden;text-align: left;background-color: #f0f8ff;}#sk-container-id-1 div.sk-toggleable__content pre {margin: 0.2em;color: black;border-radius: 0.25em;background-color: #f0f8ff;}#sk-container-id-1 input.sk-toggleable__control:checked~div.sk-toggleable__content {max-height: 200px;max-width: 100%;overflow: auto;}#sk-container-id-1 input.sk-toggleable__control:checked~label.sk-toggleable__label-arrow:before {content: \"▾\";}#sk-container-id-1 div.sk-estimator input.sk-toggleable__control:checked~label.sk-toggleable__label {background-color: #d4ebff;}#sk-container-id-1 div.sk-label input.sk-toggleable__control:checked~label.sk-toggleable__label {background-color: #d4ebff;}#sk-container-id-1 input.sk-hidden--visually {border: 0;clip: rect(1px 1px 1px 1px);clip: rect(1px, 1px, 1px, 1px);height: 1px;margin: -1px;overflow: hidden;padding: 0;position: absolute;width: 1px;}#sk-container-id-1 div.sk-estimator {font-family: monospace;background-color: #f0f8ff;border: 1px dotted black;border-radius: 0.25em;box-sizing: border-box;margin-bottom: 0.5em;}#sk-container-id-1 div.sk-estimator:hover {background-color: #d4ebff;}#sk-container-id-1 div.sk-parallel-item::after {content: \"\";width: 100%;border-bottom: 1px solid gray;flex-grow: 1;}#sk-container-id-1 div.sk-label:hover label.sk-toggleable__label {background-color: #d4ebff;}#sk-container-id-1 div.sk-serial::before {content: \"\";position: absolute;border-left: 1px solid gray;box-sizing: border-box;top: 0;bottom: 0;left: 50%;z-index: 0;}#sk-container-id-1 div.sk-serial {display: flex;flex-direction: column;align-items: center;background-color: white;padding-right: 0.2em;padding-left: 0.2em;position: relative;}#sk-container-id-1 div.sk-item {position: relative;z-index: 1;}#sk-container-id-1 div.sk-parallel {display: flex;align-items: stretch;justify-content: center;background-color: white;position: relative;}#sk-container-id-1 div.sk-item::before, #sk-container-id-1 div.sk-parallel-item::before {content: \"\";position: absolute;border-left: 1px solid gray;box-sizing: border-box;top: 0;bottom: 0;left: 50%;z-index: -1;}#sk-container-id-1 div.sk-parallel-item {display: flex;flex-direction: column;z-index: 1;position: relative;background-color: white;}#sk-container-id-1 div.sk-parallel-item:first-child::after {align-self: flex-end;width: 50%;}#sk-container-id-1 div.sk-parallel-item:last-child::after {align-self: flex-start;width: 50%;}#sk-container-id-1 div.sk-parallel-item:only-child::after {width: 0;}#sk-container-id-1 div.sk-dashed-wrapped {border: 1px dashed gray;margin: 0 0.4em 0.5em 0.4em;box-sizing: border-box;padding-bottom: 0.4em;background-color: white;}#sk-container-id-1 div.sk-label label {font-family: monospace;font-weight: bold;display: inline-block;line-height: 1.2em;}#sk-container-id-1 div.sk-label-container {text-align: center;}#sk-container-id-1 div.sk-container {/* jupyter's `normalize.less` sets `[hidden] { display: none; }` but bootstrap.min.css set `[hidden] { display: none !important; }` so we also need the `!important` here to be able to override the default hidden behavior on the sphinx rendered scikit-learn.org. See: https://github.com/scikit-learn/scikit-learn/issues/21755 */display: inline-block !important;position: relative;}#sk-container-id-1 div.sk-text-repr-fallback {display: none;}</style><div id=\"sk-container-id-1\" class=\"sk-top-container\"><div class=\"sk-text-repr-fallback\"><pre>Pipeline(steps=[(&#x27;vectorizer&#x27;,\n",
       "                 TfidfVectorizer(stop_words={&quot;&#x27;d&quot;, &quot;&#x27;ll&quot;, &quot;&#x27;m&quot;, &quot;&#x27;re&quot;, &quot;&#x27;s&quot;,\n",
       "                                             &quot;&#x27;ve&quot;, &#x27;a&#x27;, &#x27;about&#x27;, &#x27;above&#x27;,\n",
       "                                             &#x27;across&#x27;, &#x27;after&#x27;, &#x27;afterwards&#x27;,\n",
       "                                             &#x27;again&#x27;, &#x27;against&#x27;, &#x27;all&#x27;,\n",
       "                                             &#x27;almost&#x27;, &#x27;alone&#x27;, &#x27;along&#x27;,\n",
       "                                             &#x27;already&#x27;, &#x27;also&#x27;, &#x27;although&#x27;,\n",
       "                                             &#x27;always&#x27;, &#x27;am&#x27;, &#x27;among&#x27;, &#x27;amongst&#x27;,\n",
       "                                             &#x27;amount&#x27;, &#x27;an&#x27;, &#x27;and&#x27;, &#x27;another&#x27;,\n",
       "                                             &#x27;any&#x27;, ...})),\n",
       "                (&#x27;classifier&#x27;, LinearSVC())])</pre><b>In a Jupyter environment, please rerun this cell to show the HTML representation or trust the notebook. <br />On GitHub, the HTML representation is unable to render, please try loading this page with nbviewer.org.</b></div><div class=\"sk-container\" hidden><div class=\"sk-item sk-dashed-wrapped\"><div class=\"sk-label-container\"><div class=\"sk-label sk-toggleable\"><input class=\"sk-toggleable__control sk-hidden--visually\" id=\"sk-estimator-id-1\" type=\"checkbox\" ><label for=\"sk-estimator-id-1\" class=\"sk-toggleable__label sk-toggleable__label-arrow\">Pipeline</label><div class=\"sk-toggleable__content\"><pre>Pipeline(steps=[(&#x27;vectorizer&#x27;,\n",
       "                 TfidfVectorizer(stop_words={&quot;&#x27;d&quot;, &quot;&#x27;ll&quot;, &quot;&#x27;m&quot;, &quot;&#x27;re&quot;, &quot;&#x27;s&quot;,\n",
       "                                             &quot;&#x27;ve&quot;, &#x27;a&#x27;, &#x27;about&#x27;, &#x27;above&#x27;,\n",
       "                                             &#x27;across&#x27;, &#x27;after&#x27;, &#x27;afterwards&#x27;,\n",
       "                                             &#x27;again&#x27;, &#x27;against&#x27;, &#x27;all&#x27;,\n",
       "                                             &#x27;almost&#x27;, &#x27;alone&#x27;, &#x27;along&#x27;,\n",
       "                                             &#x27;already&#x27;, &#x27;also&#x27;, &#x27;although&#x27;,\n",
       "                                             &#x27;always&#x27;, &#x27;am&#x27;, &#x27;among&#x27;, &#x27;amongst&#x27;,\n",
       "                                             &#x27;amount&#x27;, &#x27;an&#x27;, &#x27;and&#x27;, &#x27;another&#x27;,\n",
       "                                             &#x27;any&#x27;, ...})),\n",
       "                (&#x27;classifier&#x27;, LinearSVC())])</pre></div></div></div><div class=\"sk-serial\"><div class=\"sk-item\"><div class=\"sk-estimator sk-toggleable\"><input class=\"sk-toggleable__control sk-hidden--visually\" id=\"sk-estimator-id-2\" type=\"checkbox\" ><label for=\"sk-estimator-id-2\" class=\"sk-toggleable__label sk-toggleable__label-arrow\">TfidfVectorizer</label><div class=\"sk-toggleable__content\"><pre>TfidfVectorizer(stop_words={&quot;&#x27;d&quot;, &quot;&#x27;ll&quot;, &quot;&#x27;m&quot;, &quot;&#x27;re&quot;, &quot;&#x27;s&quot;, &quot;&#x27;ve&quot;, &#x27;a&#x27;, &#x27;about&#x27;,\n",
       "                            &#x27;above&#x27;, &#x27;across&#x27;, &#x27;after&#x27;, &#x27;afterwards&#x27;, &#x27;again&#x27;,\n",
       "                            &#x27;against&#x27;, &#x27;all&#x27;, &#x27;almost&#x27;, &#x27;alone&#x27;, &#x27;along&#x27;,\n",
       "                            &#x27;already&#x27;, &#x27;also&#x27;, &#x27;although&#x27;, &#x27;always&#x27;, &#x27;am&#x27;,\n",
       "                            &#x27;among&#x27;, &#x27;amongst&#x27;, &#x27;amount&#x27;, &#x27;an&#x27;, &#x27;and&#x27;,\n",
       "                            &#x27;another&#x27;, &#x27;any&#x27;, ...})</pre></div></div></div><div class=\"sk-item\"><div class=\"sk-estimator sk-toggleable\"><input class=\"sk-toggleable__control sk-hidden--visually\" id=\"sk-estimator-id-3\" type=\"checkbox\" ><label for=\"sk-estimator-id-3\" class=\"sk-toggleable__label sk-toggleable__label-arrow\">LinearSVC</label><div class=\"sk-toggleable__content\"><pre>LinearSVC()</pre></div></div></div></div></div></div></div>"
      ],
      "text/plain": [
       "Pipeline(steps=[('vectorizer',\n",
       "                 TfidfVectorizer(stop_words={\"'d\", \"'ll\", \"'m\", \"'re\", \"'s\",\n",
       "                                             \"'ve\", 'a', 'about', 'above',\n",
       "                                             'across', 'after', 'afterwards',\n",
       "                                             'again', 'against', 'all',\n",
       "                                             'almost', 'alone', 'along',\n",
       "                                             'already', 'also', 'although',\n",
       "                                             'always', 'am', 'among', 'amongst',\n",
       "                                             'amount', 'an', 'and', 'another',\n",
       "                                             'any', ...})),\n",
       "                ('classifier', LinearSVC())])"
      ]
     },
     "execution_count": 9,
     "metadata": {},
     "output_type": "execute_result"
    }
   ],
   "source": [
    "model_SVM = Pipeline(\n",
    "    [\n",
    "        ('vectorizer', TfidfVectorizer(stop_words=spacy_stopwords)),\n",
    "        ('classifier', LinearSVC())\n",
    "    ])\n",
    "\n",
    "model_SVM.fit(x_train, y_train)"
   ]
  },
  {
   "cell_type": "code",
   "execution_count": 15,
   "metadata": {
    "collapsed": false
   },
   "outputs": [],
   "source": [
    "svm_train_predictions = model_SVM.predict(x_train)\n",
    "svm_test_predictions = model_SVM.predict(x_test)"
   ]
  },
  {
   "cell_type": "code",
   "execution_count": 18,
   "metadata": {
    "collapsed": false
   },
   "outputs": [
    {
     "name": "stdout",
     "output_type": "stream",
     "text": [
      "Train accuracy: 0.9998352227788031\n",
      "Train F1 score: 0.9998351217843565\n",
      "              precision    recall  f1-score   support\n",
      "\n",
      "           0       1.00      1.00      1.00     14797\n",
      "           1       1.00      1.00      1.00     15547\n",
      "\n",
      "    accuracy                           1.00     30344\n",
      "   macro avg       1.00      1.00      1.00     30344\n",
      "weighted avg       1.00      1.00      1.00     30344\n",
      "\n",
      "\n",
      "\n",
      "Test accuracy: 0.9896204033214709\n",
      "Test F1 score: 0.9896118070852193\n",
      "              precision    recall  f1-score   support\n",
      "\n",
      "           0       1.00      0.98      0.99      1748\n",
      "           1       0.98      1.00      0.99      1624\n",
      "\n",
      "    accuracy                           0.99      3372\n",
      "   macro avg       0.99      0.99      0.99      3372\n",
      "weighted avg       0.99      0.99      0.99      3372\n",
      "\n"
     ]
    }
   ],
   "source": [
    "print('Train accuracy:', model_SVM.score(x_train, y_train))\n",
    "print('Train F1 score:', f1_score(y_train, svm_train_predictions, average=\"macro\"))\n",
    "print(classification_report(y_train, svm_train_predictions))\n",
    "print('\\n')\n",
    "print('Test accuracy:', model_SVM.score(x_test, y_test))\n",
    "print('Test F1 score:', f1_score(y_test, svm_test_predictions, average=\"macro\"))\n",
    "print(classification_report(y_test, svm_test_predictions))"
   ]
  },
  {
   "cell_type": "markdown",
   "metadata": {
    "collapsed": false
   },
   "source": [
    "###### Analysis:\n",
    "We were able to train our model quickly, and as you can see, has a 99.98% F1 score on the train set and 98.96% on the test set. So, it performed fairly well. The ~1% drop in performance between train and test sets probably indicates a small degree of over-fitting. SVMs tend to be resistant to over-fitting, but we likely can improve upon on this by fine-tuning the regularization parameter, `C`."
   ]
  },
  {
   "cell_type": "markdown",
   "metadata": {
    "collapsed": false
   },
   "source": [
    "## XGBoost:\n",
    "Gradient boosting, and specifically XGBoost, has become a popular choice for many ML tasks. Let's see how well the ensemble algorithm performs on our spam classification task. As a pre-processing step, we can use the same TF-IDF vectorizer and stop words that we used earlier."
   ]
  },
  {
   "cell_type": "code",
   "execution_count": 21,
   "metadata": {
    "collapsed": false
   },
   "outputs": [
    {
     "name": "stderr",
     "output_type": "stream",
     "text": [
      "/home/deesus/.miniconda3/envs/ml/lib/python3.10/site-packages/sklearn/feature_extraction/text.py:404: UserWarning: Your stop_words may be inconsistent with your preprocessing. Tokenizing the stop words generated tokens ['ll', 've'] not in stop_words.\n",
      "  warnings.warn(\n"
     ]
    },
    {
     "data": {
      "text/html": [
       "<style>#sk-container-id-2 {color: black;background-color: white;}#sk-container-id-2 pre{padding: 0;}#sk-container-id-2 div.sk-toggleable {background-color: white;}#sk-container-id-2 label.sk-toggleable__label {cursor: pointer;display: block;width: 100%;margin-bottom: 0;padding: 0.3em;box-sizing: border-box;text-align: center;}#sk-container-id-2 label.sk-toggleable__label-arrow:before {content: \"▸\";float: left;margin-right: 0.25em;color: #696969;}#sk-container-id-2 label.sk-toggleable__label-arrow:hover:before {color: black;}#sk-container-id-2 div.sk-estimator:hover label.sk-toggleable__label-arrow:before {color: black;}#sk-container-id-2 div.sk-toggleable__content {max-height: 0;max-width: 0;overflow: hidden;text-align: left;background-color: #f0f8ff;}#sk-container-id-2 div.sk-toggleable__content pre {margin: 0.2em;color: black;border-radius: 0.25em;background-color: #f0f8ff;}#sk-container-id-2 input.sk-toggleable__control:checked~div.sk-toggleable__content {max-height: 200px;max-width: 100%;overflow: auto;}#sk-container-id-2 input.sk-toggleable__control:checked~label.sk-toggleable__label-arrow:before {content: \"▾\";}#sk-container-id-2 div.sk-estimator input.sk-toggleable__control:checked~label.sk-toggleable__label {background-color: #d4ebff;}#sk-container-id-2 div.sk-label input.sk-toggleable__control:checked~label.sk-toggleable__label {background-color: #d4ebff;}#sk-container-id-2 input.sk-hidden--visually {border: 0;clip: rect(1px 1px 1px 1px);clip: rect(1px, 1px, 1px, 1px);height: 1px;margin: -1px;overflow: hidden;padding: 0;position: absolute;width: 1px;}#sk-container-id-2 div.sk-estimator {font-family: monospace;background-color: #f0f8ff;border: 1px dotted black;border-radius: 0.25em;box-sizing: border-box;margin-bottom: 0.5em;}#sk-container-id-2 div.sk-estimator:hover {background-color: #d4ebff;}#sk-container-id-2 div.sk-parallel-item::after {content: \"\";width: 100%;border-bottom: 1px solid gray;flex-grow: 1;}#sk-container-id-2 div.sk-label:hover label.sk-toggleable__label {background-color: #d4ebff;}#sk-container-id-2 div.sk-serial::before {content: \"\";position: absolute;border-left: 1px solid gray;box-sizing: border-box;top: 0;bottom: 0;left: 50%;z-index: 0;}#sk-container-id-2 div.sk-serial {display: flex;flex-direction: column;align-items: center;background-color: white;padding-right: 0.2em;padding-left: 0.2em;position: relative;}#sk-container-id-2 div.sk-item {position: relative;z-index: 1;}#sk-container-id-2 div.sk-parallel {display: flex;align-items: stretch;justify-content: center;background-color: white;position: relative;}#sk-container-id-2 div.sk-item::before, #sk-container-id-2 div.sk-parallel-item::before {content: \"\";position: absolute;border-left: 1px solid gray;box-sizing: border-box;top: 0;bottom: 0;left: 50%;z-index: -1;}#sk-container-id-2 div.sk-parallel-item {display: flex;flex-direction: column;z-index: 1;position: relative;background-color: white;}#sk-container-id-2 div.sk-parallel-item:first-child::after {align-self: flex-end;width: 50%;}#sk-container-id-2 div.sk-parallel-item:last-child::after {align-self: flex-start;width: 50%;}#sk-container-id-2 div.sk-parallel-item:only-child::after {width: 0;}#sk-container-id-2 div.sk-dashed-wrapped {border: 1px dashed gray;margin: 0 0.4em 0.5em 0.4em;box-sizing: border-box;padding-bottom: 0.4em;background-color: white;}#sk-container-id-2 div.sk-label label {font-family: monospace;font-weight: bold;display: inline-block;line-height: 1.2em;}#sk-container-id-2 div.sk-label-container {text-align: center;}#sk-container-id-2 div.sk-container {/* jupyter's `normalize.less` sets `[hidden] { display: none; }` but bootstrap.min.css set `[hidden] { display: none !important; }` so we also need the `!important` here to be able to override the default hidden behavior on the sphinx rendered scikit-learn.org. See: https://github.com/scikit-learn/scikit-learn/issues/21755 */display: inline-block !important;position: relative;}#sk-container-id-2 div.sk-text-repr-fallback {display: none;}</style><div id=\"sk-container-id-2\" class=\"sk-top-container\"><div class=\"sk-text-repr-fallback\"><pre>Pipeline(steps=[(&#x27;vectorizer&#x27;,\n",
       "                 TfidfVectorizer(stop_words={&quot;&#x27;d&quot;, &quot;&#x27;ll&quot;, &quot;&#x27;m&quot;, &quot;&#x27;re&quot;, &quot;&#x27;s&quot;,\n",
       "                                             &quot;&#x27;ve&quot;, &#x27;a&#x27;, &#x27;about&#x27;, &#x27;above&#x27;,\n",
       "                                             &#x27;across&#x27;, &#x27;after&#x27;, &#x27;afterwards&#x27;,\n",
       "                                             &#x27;again&#x27;, &#x27;against&#x27;, &#x27;all&#x27;,\n",
       "                                             &#x27;almost&#x27;, &#x27;alone&#x27;, &#x27;along&#x27;,\n",
       "                                             &#x27;already&#x27;, &#x27;also&#x27;, &#x27;although&#x27;,\n",
       "                                             &#x27;always&#x27;, &#x27;am&#x27;, &#x27;among&#x27;, &#x27;amongst&#x27;,\n",
       "                                             &#x27;amount&#x27;, &#x27;an&#x27;, &#x27;and&#x27;, &#x27;another&#x27;,\n",
       "                                             &#x27;any&#x27;, ...})),\n",
       "                (&#x27;classifier&#x27;,\n",
       "                 XGBClassifier(base_score=0.5, booster=&#x27;gbtre...\n",
       "                               gamma=0, gpu_id=-1, grow_policy=&#x27;depthwise&#x27;,\n",
       "                               importance_type=None, interaction_constraints=&#x27;&#x27;,\n",
       "                               learning_rate=0.300000012, max_bin=256,\n",
       "                               max_cat_to_onehot=4, max_delta_step=0,\n",
       "                               max_depth=6, max_leaves=0, min_child_weight=1,\n",
       "                               missing=nan, monotone_constraints=&#x27;()&#x27;,\n",
       "                               n_estimators=100, n_jobs=0, num_parallel_tree=1,\n",
       "                               predictor=&#x27;auto&#x27;, random_state=0, reg_alpha=0,\n",
       "                               reg_lambda=1, ...))])</pre><b>In a Jupyter environment, please rerun this cell to show the HTML representation or trust the notebook. <br />On GitHub, the HTML representation is unable to render, please try loading this page with nbviewer.org.</b></div><div class=\"sk-container\" hidden><div class=\"sk-item sk-dashed-wrapped\"><div class=\"sk-label-container\"><div class=\"sk-label sk-toggleable\"><input class=\"sk-toggleable__control sk-hidden--visually\" id=\"sk-estimator-id-4\" type=\"checkbox\" ><label for=\"sk-estimator-id-4\" class=\"sk-toggleable__label sk-toggleable__label-arrow\">Pipeline</label><div class=\"sk-toggleable__content\"><pre>Pipeline(steps=[(&#x27;vectorizer&#x27;,\n",
       "                 TfidfVectorizer(stop_words={&quot;&#x27;d&quot;, &quot;&#x27;ll&quot;, &quot;&#x27;m&quot;, &quot;&#x27;re&quot;, &quot;&#x27;s&quot;,\n",
       "                                             &quot;&#x27;ve&quot;, &#x27;a&#x27;, &#x27;about&#x27;, &#x27;above&#x27;,\n",
       "                                             &#x27;across&#x27;, &#x27;after&#x27;, &#x27;afterwards&#x27;,\n",
       "                                             &#x27;again&#x27;, &#x27;against&#x27;, &#x27;all&#x27;,\n",
       "                                             &#x27;almost&#x27;, &#x27;alone&#x27;, &#x27;along&#x27;,\n",
       "                                             &#x27;already&#x27;, &#x27;also&#x27;, &#x27;although&#x27;,\n",
       "                                             &#x27;always&#x27;, &#x27;am&#x27;, &#x27;among&#x27;, &#x27;amongst&#x27;,\n",
       "                                             &#x27;amount&#x27;, &#x27;an&#x27;, &#x27;and&#x27;, &#x27;another&#x27;,\n",
       "                                             &#x27;any&#x27;, ...})),\n",
       "                (&#x27;classifier&#x27;,\n",
       "                 XGBClassifier(base_score=0.5, booster=&#x27;gbtre...\n",
       "                               gamma=0, gpu_id=-1, grow_policy=&#x27;depthwise&#x27;,\n",
       "                               importance_type=None, interaction_constraints=&#x27;&#x27;,\n",
       "                               learning_rate=0.300000012, max_bin=256,\n",
       "                               max_cat_to_onehot=4, max_delta_step=0,\n",
       "                               max_depth=6, max_leaves=0, min_child_weight=1,\n",
       "                               missing=nan, monotone_constraints=&#x27;()&#x27;,\n",
       "                               n_estimators=100, n_jobs=0, num_parallel_tree=1,\n",
       "                               predictor=&#x27;auto&#x27;, random_state=0, reg_alpha=0,\n",
       "                               reg_lambda=1, ...))])</pre></div></div></div><div class=\"sk-serial\"><div class=\"sk-item\"><div class=\"sk-estimator sk-toggleable\"><input class=\"sk-toggleable__control sk-hidden--visually\" id=\"sk-estimator-id-5\" type=\"checkbox\" ><label for=\"sk-estimator-id-5\" class=\"sk-toggleable__label sk-toggleable__label-arrow\">TfidfVectorizer</label><div class=\"sk-toggleable__content\"><pre>TfidfVectorizer(stop_words={&quot;&#x27;d&quot;, &quot;&#x27;ll&quot;, &quot;&#x27;m&quot;, &quot;&#x27;re&quot;, &quot;&#x27;s&quot;, &quot;&#x27;ve&quot;, &#x27;a&#x27;, &#x27;about&#x27;,\n",
       "                            &#x27;above&#x27;, &#x27;across&#x27;, &#x27;after&#x27;, &#x27;afterwards&#x27;, &#x27;again&#x27;,\n",
       "                            &#x27;against&#x27;, &#x27;all&#x27;, &#x27;almost&#x27;, &#x27;alone&#x27;, &#x27;along&#x27;,\n",
       "                            &#x27;already&#x27;, &#x27;also&#x27;, &#x27;although&#x27;, &#x27;always&#x27;, &#x27;am&#x27;,\n",
       "                            &#x27;among&#x27;, &#x27;amongst&#x27;, &#x27;amount&#x27;, &#x27;an&#x27;, &#x27;and&#x27;,\n",
       "                            &#x27;another&#x27;, &#x27;any&#x27;, ...})</pre></div></div></div><div class=\"sk-item\"><div class=\"sk-estimator sk-toggleable\"><input class=\"sk-toggleable__control sk-hidden--visually\" id=\"sk-estimator-id-6\" type=\"checkbox\" ><label for=\"sk-estimator-id-6\" class=\"sk-toggleable__label sk-toggleable__label-arrow\">XGBClassifier</label><div class=\"sk-toggleable__content\"><pre>XGBClassifier(base_score=0.5, booster=&#x27;gbtree&#x27;, callbacks=None,\n",
       "              colsample_bylevel=1, colsample_bynode=1, colsample_bytree=1,\n",
       "              early_stopping_rounds=None, enable_categorical=False,\n",
       "              eval_metric=None, gamma=0, gpu_id=-1, grow_policy=&#x27;depthwise&#x27;,\n",
       "              importance_type=None, interaction_constraints=&#x27;&#x27;,\n",
       "              learning_rate=0.300000012, max_bin=256, max_cat_to_onehot=4,\n",
       "              max_delta_step=0, max_depth=6, max_leaves=0, min_child_weight=1,\n",
       "              missing=nan, monotone_constraints=&#x27;()&#x27;, n_estimators=100,\n",
       "              n_jobs=0, num_parallel_tree=1, predictor=&#x27;auto&#x27;, random_state=0,\n",
       "              reg_alpha=0, reg_lambda=1, ...)</pre></div></div></div></div></div></div></div>"
      ],
      "text/plain": [
       "Pipeline(steps=[('vectorizer',\n",
       "                 TfidfVectorizer(stop_words={\"'d\", \"'ll\", \"'m\", \"'re\", \"'s\",\n",
       "                                             \"'ve\", 'a', 'about', 'above',\n",
       "                                             'across', 'after', 'afterwards',\n",
       "                                             'again', 'against', 'all',\n",
       "                                             'almost', 'alone', 'along',\n",
       "                                             'already', 'also', 'although',\n",
       "                                             'always', 'am', 'among', 'amongst',\n",
       "                                             'amount', 'an', 'and', 'another',\n",
       "                                             'any', ...})),\n",
       "                ('classifier',\n",
       "                 XGBClassifier(base_score=0.5, booster='gbtre...\n",
       "                               gamma=0, gpu_id=-1, grow_policy='depthwise',\n",
       "                               importance_type=None, interaction_constraints='',\n",
       "                               learning_rate=0.300000012, max_bin=256,\n",
       "                               max_cat_to_onehot=4, max_delta_step=0,\n",
       "                               max_depth=6, max_leaves=0, min_child_weight=1,\n",
       "                               missing=nan, monotone_constraints='()',\n",
       "                               n_estimators=100, n_jobs=0, num_parallel_tree=1,\n",
       "                               predictor='auto', random_state=0, reg_alpha=0,\n",
       "                               reg_lambda=1, ...))])"
      ]
     },
     "execution_count": 21,
     "metadata": {},
     "output_type": "execute_result"
    }
   ],
   "source": [
    "model_xgb = Pipeline([\n",
    "    ('vectorizer', TfidfVectorizer(stop_words=spacy_stopwords)),\n",
    "    ('classifier', XGBClassifier(objective='binary:logistic'))\n",
    "])\n",
    "\n",
    "model_xgb.fit(x_train, y_train)"
   ]
  },
  {
   "cell_type": "code",
   "execution_count": 22,
   "metadata": {
    "collapsed": false
   },
   "outputs": [],
   "source": [
    "xgb_train_predictions = model_xgb.predict(x_train)\n",
    "xgb_test_predictions = model_xgb.predict(x_test)"
   ]
  },
  {
   "cell_type": "code",
   "execution_count": 23,
   "metadata": {
    "collapsed": false
   },
   "outputs": [
    {
     "name": "stdout",
     "output_type": "stream",
     "text": [
      "Train accuracy: 0.9902781439493804\n",
      "Train F1 score: 0.990267552764396\n",
      "              precision    recall  f1-score   support\n",
      "\n",
      "           0       1.00      0.98      0.99     14797\n",
      "           1       0.98      1.00      0.99     15547\n",
      "\n",
      "    accuracy                           0.99     30344\n",
      "   macro avg       0.99      0.99      0.99     30344\n",
      "weighted avg       0.99      0.99      0.99     30344\n",
      "\n",
      "\n",
      "\n",
      "Test accuracy: 0.9798339264531435\n",
      "Test F1 score: 0.9798266593280058\n",
      "              precision    recall  f1-score   support\n",
      "\n",
      "           0       1.00      0.96      0.98      1748\n",
      "           1       0.96      1.00      0.98      1624\n",
      "\n",
      "    accuracy                           0.98      3372\n",
      "   macro avg       0.98      0.98      0.98      3372\n",
      "weighted avg       0.98      0.98      0.98      3372\n",
      "\n"
     ]
    }
   ],
   "source": [
    "print('Train accuracy:', model_xgb.score(x_train, y_train))\n",
    "print('Train F1 score:', f1_score(y_train, xgb_train_predictions, average=\"macro\"))\n",
    "print(classification_report(y_train, xgb_train_predictions))\n",
    "print('\\n')\n",
    "print('Test accuracy:', model_xgb.score(x_test, y_test))\n",
    "print('Test F1 score:', f1_score(y_test, xgb_test_predictions, average=\"macro\"))\n",
    "print(classification_report(y_test, xgb_test_predictions))"
   ]
  },
  {
   "cell_type": "markdown",
   "metadata": {
    "collapsed": false
   },
   "source": [
    "##### Analysis:\n",
    "The XGBoost model did relatively well (97.98% F1 score), but didn't fit our dataset as well Linear SVM. It also took noticeably more time to train than the SVM model."
   ]
  },
  {
   "cell_type": "markdown",
   "metadata": {
    "collapsed": false
   },
   "source": [
    "## Neural Network (Transformer):\n",
    "Finally, we will build a more advanced model: a neural network. Unlike the previous models which used word frequencies, the neural network will \"understand\" the context of the words via [attention](https://arxiv.org/abs/1706.03762). As a result, we **don't** want to remove stop words in the documents; by stemming/lemmatizing we will be removing valuable information in the text.\n",
    "\n",
    "We'll use a pretrained model from [Hugging Face](https://huggingface.co), rather than creating a new one from scratch, and then fine-tune it to our specific task. We'll use the [RoBERTa](https://arxiv.org/abs/1907.11692) architecture, which is an improved version of BERT; and more specifically, we'll use the [\"distilled\"](https://huggingface.co/distilroberta-base) version of RoBERTa, which performs slightly worse than regular RoBERTa, but has ~33% fewer parameters (and therefore is less resource intense and trains twice as fast)."
   ]
  },
  {
   "cell_type": "code",
   "execution_count": 69,
   "metadata": {
    "collapsed": false
   },
   "outputs": [],
   "source": [
    "dataset = Dataset.from_pandas(train_set)"
   ]
  },
  {
   "cell_type": "code",
   "execution_count": 70,
   "metadata": {
    "execution": {
     "iopub.execute_input": "2022-10-07T03:51:32.082156Z",
     "iopub.status.busy": "2022-10-07T03:51:32.081836Z",
     "iopub.status.idle": "2022-10-07T03:51:36.761849Z",
     "shell.execute_reply": "2022-10-07T03:51:36.760913Z",
     "shell.execute_reply.started": "2022-10-07T03:51:32.082129Z"
    }
   },
   "outputs": [],
   "source": [
    "MODEL_NAME = 'distilroberta-base'\n",
    "tokenizer = AutoTokenizer.from_pretrained(MODEL_NAME)"
   ]
  },
  {
   "cell_type": "code",
   "execution_count": 71,
   "metadata": {
    "execution": {
     "iopub.execute_input": "2022-10-07T03:51:36.763691Z",
     "iopub.status.busy": "2022-10-07T03:51:36.763340Z",
     "iopub.status.idle": "2022-10-07T03:51:36.790308Z",
     "shell.execute_reply": "2022-10-07T03:51:36.789455Z",
     "shell.execute_reply.started": "2022-10-07T03:51:36.763655Z"
    }
   },
   "outputs": [],
   "source": [
    "dataset = dataset.train_test_split(test_size=0.1)\n",
    "dataset = dataset.shuffle(seed=2)"
   ]
  },
  {
   "cell_type": "markdown",
   "metadata": {
    "collapsed": false
   },
   "source": [
    "As mentioned before, we will truncate the document if it exceeds 2,000 characters. We also need to tokenize and pad our data."
   ]
  },
  {
   "cell_type": "code",
   "execution_count": 72,
   "metadata": {
    "execution": {
     "iopub.execute_input": "2022-10-07T03:51:36.792288Z",
     "iopub.status.busy": "2022-10-07T03:51:36.791927Z",
     "iopub.status.idle": "2022-10-07T03:52:14.674020Z",
     "shell.execute_reply": "2022-10-07T03:52:14.672860Z",
     "shell.execute_reply.started": "2022-10-07T03:51:36.792253Z"
    }
   },
   "outputs": [
    {
     "data": {
      "application/vnd.jupyter.widget-view+json": {
       "model_id": "aff4c73bfc644b608f9aaa3fdc102090",
       "version_major": 2,
       "version_minor": 0
      },
      "text/plain": [
       "  0%|          | 0/3414 [00:00<?, ?ba/s]"
      ]
     },
     "metadata": {},
     "output_type": "display_data"
    },
    {
     "data": {
      "application/vnd.jupyter.widget-view+json": {
       "model_id": "a613d295b43a4458973fc44237d50336",
       "version_major": 2,
       "version_minor": 0
      },
      "text/plain": [
       "  0%|          | 0/380 [00:00<?, ?ba/s]"
      ]
     },
     "metadata": {},
     "output_type": "display_data"
    },
    {
     "data": {
      "text/plain": [
       "DatasetDict({\n",
       "    train: Dataset({\n",
       "        features: ['text', 'label', '__index_level_0__', 'input_ids', 'attention_mask'],\n",
       "        num_rows: 27309\n",
       "    })\n",
       "    test: Dataset({\n",
       "        features: ['text', 'label', '__index_level_0__', 'input_ids', 'attention_mask'],\n",
       "        num_rows: 3035\n",
       "    })\n",
       "})"
      ]
     },
     "execution_count": 72,
     "metadata": {},
     "output_type": "execute_result"
    }
   ],
   "source": [
    "def preprocess(examples):\n",
    "    return tokenizer(examples['text'], truncation=True, max_length=MAX_CHAR_LENGTH)\n",
    "\n",
    "tokenized_data = dataset.map(preprocess, batched=True, batch_size=8)\n",
    "tokenized_data"
   ]
  },
  {
   "cell_type": "code",
   "execution_count": 73,
   "metadata": {
    "execution": {
     "iopub.execute_input": "2022-10-07T03:52:14.675908Z",
     "iopub.status.busy": "2022-10-07T03:52:14.675445Z",
     "iopub.status.idle": "2022-10-07T03:52:14.681030Z",
     "shell.execute_reply": "2022-10-07T03:52:14.679955Z",
     "shell.execute_reply.started": "2022-10-07T03:52:14.675855Z"
    }
   },
   "outputs": [],
   "source": [
    "batch_size = 2\n",
    "num_epochs = 15"
   ]
  },
  {
   "cell_type": "code",
   "execution_count": 74,
   "metadata": {
    "execution": {
     "iopub.execute_input": "2022-10-07T03:52:14.682798Z",
     "iopub.status.busy": "2022-10-07T03:52:14.682377Z",
     "iopub.status.idle": "2022-10-07T03:52:14.691567Z",
     "shell.execute_reply": "2022-10-07T03:52:14.690566Z",
     "shell.execute_reply.started": "2022-10-07T03:52:14.682764Z"
    }
   },
   "outputs": [],
   "source": [
    "batches_per_epoch = len(tokenized_data['train']) // batch_size\n",
    "total_train_steps = int(batches_per_epoch * num_epochs)"
   ]
  },
  {
   "cell_type": "markdown",
   "metadata": {
    "collapsed": false
   },
   "source": [
    "Although completely optional, we'll create a few additional callback functions:\n",
    "1. A [learning rate scheduler](https://www.tensorflow.org/api_docs/python/tf/keras/optimizers/schedules), which is a Keras/TensorFlow implementation of learning rate decay.\n",
    "2. Saving checkpoints (model weights) after each epoch.\n",
    "3. Early stoppage if the model's train accuracy achieves 99.7% accuracy."
   ]
  },
  {
   "cell_type": "code",
   "execution_count": 75,
   "metadata": {
    "execution": {
     "iopub.execute_input": "2022-10-07T03:52:14.693373Z",
     "iopub.status.busy": "2022-10-07T03:52:14.693018Z",
     "iopub.status.idle": "2022-10-07T03:52:14.701320Z",
     "shell.execute_reply": "2022-10-07T03:52:14.700431Z",
     "shell.execute_reply.started": "2022-10-07T03:52:14.693335Z"
    }
   },
   "outputs": [],
   "source": [
    "lr_scheduler = tf.keras.optimizers.schedules.PolynomialDecay(\n",
    "    initial_learning_rate=1e-5, end_learning_rate=5e-9, decay_steps=total_train_steps\n",
    ")"
   ]
  },
  {
   "cell_type": "code",
   "execution_count": 76,
   "metadata": {
    "execution": {
     "iopub.execute_input": "2022-10-07T03:52:14.703525Z",
     "iopub.status.busy": "2022-10-07T03:52:14.702903Z",
     "iopub.status.idle": "2022-10-07T03:52:14.710563Z",
     "shell.execute_reply": "2022-10-07T03:52:14.709623Z",
     "shell.execute_reply.started": "2022-10-07T03:52:14.703491Z"
    }
   },
   "outputs": [],
   "source": [
    "model_checkpoint_callback = tf.keras.callbacks.ModelCheckpoint(\n",
    "    filepath='/kaggle/working/checkpoints',\n",
    "    save_weights_only=True,\n",
    "    monitor='val_sparse_categorical_accuracy',\n",
    "    mode='max',\n",
    "    save_best_only=True\n",
    ")"
   ]
  },
  {
   "cell_type": "code",
   "execution_count": 77,
   "metadata": {
    "execution": {
     "iopub.execute_input": "2022-10-07T03:52:14.712724Z",
     "iopub.status.busy": "2022-10-07T03:52:14.712087Z",
     "iopub.status.idle": "2022-10-07T03:52:14.724751Z",
     "shell.execute_reply": "2022-10-07T03:52:14.724143Z",
     "shell.execute_reply.started": "2022-10-07T03:52:14.712690Z"
    }
   },
   "outputs": [],
   "source": [
    "class ThresholdStoppageCallback(tf.keras.callbacks.Callback):\n",
    "    def __init__(self, threshold):\n",
    "        super(ThresholdStoppageCallback, self).__init__()\n",
    "        self.threshold = threshold\n",
    "\n",
    "    def on_epoch_end(self, epoch, logs=None):\n",
    "        train_acc = logs[\"sparse_categorical_accuracy\"]\n",
    "        if train_acc >= self.threshold:\n",
    "            self.model.stop_training = True\n",
    "\n",
    "# If train accuracy reaches 99.7% accuracy, stop training:\n",
    "threshold_stoppage_callback = ThresholdStoppageCallback(threshold=0.997)"
   ]
  },
  {
   "cell_type": "code",
   "execution_count": 78,
   "metadata": {
    "execution": {
     "iopub.execute_input": "2022-10-07T03:52:14.726917Z",
     "iopub.status.busy": "2022-10-07T03:52:14.726271Z",
     "iopub.status.idle": "2022-10-07T03:52:14.776310Z",
     "shell.execute_reply": "2022-10-07T03:52:14.775459Z",
     "shell.execute_reply.started": "2022-10-07T03:52:14.726863Z"
    }
   },
   "outputs": [],
   "source": [
    "tf_train_set = tokenized_data['train'].to_tf_dataset(\n",
    "    columns=['attention_mask', 'input_ids', 'label'],\n",
    "    shuffle=True,\n",
    "    batch_size=batch_size,\n",
    "    collate_fn=DataCollatorWithPadding(tokenizer=tokenizer, return_tensors='tf')\n",
    ")\n",
    "\n",
    "tf_validation_set = tokenized_data['test'].to_tf_dataset(\n",
    "    columns=['attention_mask', 'input_ids', 'label'],\n",
    "    shuffle=False,\n",
    "    batch_size=batch_size,\n",
    "    collate_fn=DataCollatorWithPadding(tokenizer=tokenizer, return_tensors='tf')\n",
    ")"
   ]
  },
  {
   "cell_type": "code",
   "execution_count": 79,
   "metadata": {
    "execution": {
     "iopub.execute_input": "2022-10-07T03:52:14.777985Z",
     "iopub.status.busy": "2022-10-07T03:52:14.777622Z",
     "iopub.status.idle": "2022-10-07T03:52:16.448504Z",
     "shell.execute_reply": "2022-10-07T03:52:16.447469Z",
     "shell.execute_reply.started": "2022-10-07T03:52:14.777951Z"
    }
   },
   "outputs": [
    {
     "name": "stderr",
     "output_type": "stream",
     "text": [
      "All model checkpoint layers were used when initializing TFRobertaForSequenceClassification.\n",
      "\n",
      "Some layers of TFRobertaForSequenceClassification were not initialized from the model checkpoint at distilroberta-base and are newly initialized: ['classifier']\n",
      "You should probably TRAIN this model on a down-stream task to be able to use it for predictions and inference.\n"
     ]
    }
   ],
   "source": [
    "model = TFAutoModelForSequenceClassification.from_pretrained(\n",
    "    MODEL_NAME,\n",
    "    num_labels=2\n",
    ")"
   ]
  },
  {
   "cell_type": "code",
   "execution_count": 80,
   "metadata": {
    "execution": {
     "iopub.execute_input": "2022-10-07T03:52:16.451672Z",
     "iopub.status.busy": "2022-10-07T03:52:16.451407Z",
     "iopub.status.idle": "2022-10-07T03:52:16.456765Z",
     "shell.execute_reply": "2022-10-07T03:52:16.455782Z",
     "shell.execute_reply.started": "2022-10-07T03:52:16.451645Z"
    }
   },
   "outputs": [],
   "source": [
    "# Free up some memory:\n",
    "del tokenized_data\n",
    "del dataset\n",
    "del combined_dataset"
   ]
  },
  {
   "cell_type": "code",
   "execution_count": 82,
   "metadata": {
    "execution": {
     "iopub.execute_input": "2022-10-07T03:52:16.474329Z",
     "iopub.status.busy": "2022-10-07T03:52:16.474077Z",
     "iopub.status.idle": "2022-10-07T03:52:16.489158Z",
     "shell.execute_reply": "2022-10-07T03:52:16.487943Z",
     "shell.execute_reply.started": "2022-10-07T03:52:16.474306Z"
    }
   },
   "outputs": [],
   "source": [
    "model.compile(\n",
    "    optimizer=tf.keras.optimizers.Adam(learning_rate=lr_scheduler),\n",
    "    loss=tf.keras.losses.SparseCategoricalCrossentropy(from_logits=True),\n",
    "    metrics=[tf.keras.metrics.SparseCategoricalAccuracy()]\n",
    ")"
   ]
  },
  {
   "cell_type": "code",
   "execution_count": 83,
   "metadata": {
    "execution": {
     "iopub.execute_input": "2022-10-07T03:52:16.492500Z",
     "iopub.status.busy": "2022-10-07T03:52:16.492192Z",
     "iopub.status.idle": "2022-10-07T05:16:50.999832Z",
     "shell.execute_reply": "2022-10-07T05:16:50.998909Z",
     "shell.execute_reply.started": "2022-10-07T03:52:16.492473Z"
    }
   },
   "outputs": [
    {
     "name": "stdout",
     "output_type": "stream",
     "text": [
      "Epoch 1/15\n",
      "13654/13654 [==============================] - 1670s 122ms/step - loss: 0.0566 - sparse_categorical_accuracy: 0.9795 - val_loss: 0.0124 - val_sparse_categorical_accuracy: 0.9964\n",
      "Epoch 2/15\n",
      "13654/13654 [==============================] - 1661s 122ms/step - loss: 0.0162 - sparse_categorical_accuracy: 0.9947 - val_loss: 0.0141 - val_sparse_categorical_accuracy: 0.9964\n",
      "Epoch 3/15\n",
      "13654/13654 [==============================] - 1663s 122ms/step - loss: 0.0078 - sparse_categorical_accuracy: 0.9979 - val_loss: 0.0154 - val_sparse_categorical_accuracy: 0.9954\n"
     ]
    }
   ],
   "source": [
    "model_history = model.fit(\n",
    "    tf_train_set,\n",
    "    validation_data=tf_validation_set,\n",
    "    epochs=num_epochs,\n",
    "    callbacks=[model_checkpoint_callback, threshold_stoppage_callback]\n",
    ")"
   ]
  },
  {
   "cell_type": "code",
   "execution_count": 88,
   "metadata": {
    "execution": {
     "iopub.execute_input": "2022-10-07T05:24:15.473110Z",
     "iopub.status.busy": "2022-10-07T05:24:15.471724Z",
     "iopub.status.idle": "2022-10-07T05:24:16.148203Z",
     "shell.execute_reply": "2022-10-07T05:24:16.146967Z",
     "shell.execute_reply.started": "2022-10-07T05:24:15.473048Z"
    }
   },
   "outputs": [],
   "source": [
    "# Save weights:\n",
    "model.save_weights('../models/saved_weights/distilroberta-base/weights_v1.h5')"
   ]
  },
  {
   "cell_type": "markdown",
   "metadata": {},
   "source": [
    "#### Model Evaluation:"
   ]
  },
  {
   "cell_type": "code",
   "execution_count": 89,
   "metadata": {
    "execution": {
     "iopub.execute_input": "2022-10-07T05:24:19.181053Z",
     "iopub.status.busy": "2022-10-07T05:24:19.180663Z",
     "iopub.status.idle": "2022-10-07T05:24:19.445865Z",
     "shell.execute_reply": "2022-10-07T05:24:19.444868Z",
     "shell.execute_reply.started": "2022-10-07T05:24:19.181020Z"
    }
   },
   "outputs": [
    {
     "data": {
      "image/png": "[encoded data removed]",
      "text/plain": [
       "<Figure size 864x576 with 1 Axes>"
      ]
     },
     "metadata": {
      "needs_background": "light"
     },
     "output_type": "display_data"
    }
   ],
   "source": [
    "# Increase figure size:\n",
    "plt.rcParams[\"figure.figsize\"] = (12,8)\n",
    "\n",
    "# Plot accuracy:\n",
    "plt.plot(model_history.history['sparse_categorical_accuracy'], label='accuracy')\n",
    "plt.plot(model_history.history['val_sparse_categorical_accuracy'], label='val_accuracy')\n",
    "plt.legend()\n",
    "plt.xlabel('Iterations')\n",
    "plt.ylabel('Accuracy (%)')\n",
    "plt.title('Accuracy')\n",
    "plt.show()"
   ]
  },
  {
   "cell_type": "code",
   "execution_count": 90,
   "metadata": {
    "execution": {
     "iopub.execute_input": "2022-10-07T05:24:30.171863Z",
     "iopub.status.busy": "2022-10-07T05:24:30.171481Z",
     "iopub.status.idle": "2022-10-07T05:24:30.178423Z",
     "shell.execute_reply": "2022-10-07T05:24:30.177212Z",
     "shell.execute_reply.started": "2022-10-07T05:24:30.171830Z"
    }
   },
   "outputs": [],
   "source": [
    "def predict(text: str):\n",
    "    encoded_input = tokenizer.encode(\n",
    "        text,\n",
    "        truncation=True,\n",
    "        padding=True,\n",
    "        max_length=MAX_CHAR_LENGTH,\n",
    "        return_tensors=\"tf\"\n",
    "    )\n",
    "    \n",
    "    # Make prediction from logits:\n",
    "    prediction = model.predict(encoded_input)['logits']\n",
    "    prediction = tf.nn.softmax(prediction)\n",
    "    prediction = np.argmax(prediction)\n",
    "    \n",
    "    return prediction"
   ]
  },
  {
   "cell_type": "code",
   "execution_count": 98,
   "metadata": {
    "execution": {
     "iopub.execute_input": "2022-10-07T05:29:33.561378Z",
     "iopub.status.busy": "2022-10-07T05:29:33.560790Z",
     "iopub.status.idle": "2022-10-07T05:57:24.971585Z",
     "shell.execute_reply": "2022-10-07T05:57:24.970595Z",
     "shell.execute_reply.started": "2022-10-07T05:29:33.561343Z"
    }
   },
   "outputs": [],
   "source": [
    "train_predictions = [predict(x) for x in train_set['text']]\n",
    "train_set_y = train_set['label'].to_list()"
   ]
  },
  {
   "cell_type": "code",
   "execution_count": 101,
   "metadata": {
    "execution": {
     "iopub.execute_input": "2022-10-07T06:21:09.681636Z",
     "iopub.status.busy": "2022-10-07T06:21:09.681279Z",
     "iopub.status.idle": "2022-10-07T06:21:09.828784Z",
     "shell.execute_reply": "2022-10-07T06:21:09.827738Z",
     "shell.execute_reply.started": "2022-10-07T06:21:09.681603Z"
    }
   },
   "outputs": [
    {
     "name": "stdout",
     "output_type": "stream",
     "text": [
      "Trainset F1 Score: 0.9986151088592974\n",
      "Trainset Accuracy: 0.9986158713419457\n",
      "\n",
      "\n",
      "              precision    recall  f1-score   support\n",
      "\n",
      "           0       1.00      1.00      1.00     14797\n",
      "           1       1.00      1.00      1.00     15547\n",
      "\n",
      "    accuracy                           1.00     30344\n",
      "   macro avg       1.00      1.00      1.00     30344\n",
      "weighted avg       1.00      1.00      1.00     30344\n",
      "\n"
     ]
    }
   ],
   "source": [
    "print('Trainset F1 Score:', f1_score(train_set_y, train_predictions, average=\"macro\"))\n",
    "print('Trainset Accuracy:', accuracy_score(train_set_y, train_predictions))\n",
    "print('\\n')\n",
    "print(classification_report(train_set_y, train_predictions))"
   ]
  },
  {
   "cell_type": "code",
   "execution_count": 91,
   "metadata": {
    "collapsed": false
   },
   "outputs": [],
   "source": [
    "test_predictions = [predict(x) for x in test_set['text']]\n",
    "test_set_y = test_set['label'].to_list()"
   ]
  },
  {
   "cell_type": "code",
   "execution_count": 94,
   "metadata": {
    "collapsed": false
   },
   "outputs": [
    {
     "name": "stdout",
     "output_type": "stream",
     "text": [
      "Testset F1 Score: 0.9940599731324763\n",
      "Testset Accuracy: 0.9940688018979834\n",
      "\n",
      "\n",
      "              precision    recall  f1-score   support\n",
      "\n",
      "           0       0.99      1.00      0.99      1748\n",
      "           1       1.00      0.99      0.99      1624\n",
      "\n",
      "    accuracy                           0.99      3372\n",
      "   macro avg       0.99      0.99      0.99      3372\n",
      "weighted avg       0.99      0.99      0.99      3372\n",
      "\n"
     ]
    }
   ],
   "source": [
    "print('Testset F1 Score:', f1_score(test_set_y, test_predictions, average=\"macro\"))\n",
    "print('Testset Accuracy:', accuracy_score(test_set_y, test_predictions))\n",
    "print('\\n')\n",
    "print(classification_report(test_set_y, test_predictions))"
   ]
  },
  {
   "cell_type": "markdown",
   "metadata": {
    "collapsed": false
   },
   "source": [
    "##### Analysis:\n",
    "Our transformer network has a 99.86% F1 score on the train set and 99.40% on the test set, making it the best performing model of the three. Neural networks, especially attention-based networks, are intrinsically more sophisticated models that take into account word context, so it should be expected that it also performs the best. The model fit out dataset well, and importantly, didn't over-fit -- as evidenced by the fact that performance on the train set dropped by only 0.46%.\n",
    "\n",
    "On the other hand, we spent more time setting up the model, creating various callbacks, etc. We trained the transformer model for 3 epochs (on GPU), but it still took ~83 minutes. This is expected though, as transformers are resource-intensive. It might be worth reconsidering our SVM model by fine-tuning its hyperparameters, because that model also performed well, but took a fraction of the time to train -- so we would be able to iterate faster on the SVM."
   ]
  },
  {
   "cell_type": "markdown",
   "metadata": {
    "collapsed": false
   },
   "source": [
    "## Improvements:\n",
    "Although our transformer model achieved an F1 score of 99.40%, this doesn't fully capture the problem task. In real life, a false positive (a normal email classified as \"spam\") is far worse than a false negative (spam that is not classified as \"spam\"). For example, consider an email service that marks an important message as \"spam\" -- the user may never see that message, which would be a serious problem. So, our spam classification problem is far from complete. We should analyze our false positives and understand to what extent are emails being incorrectly classified as \"spam.\" Depending on the analysis, one possible way we could ameliorate false positives is by increasing the classification threshold (e.g. only classify an email as \"spam\" if the probability is greater than 0.8)."
   ]
  }
 ],
 "metadata": {
  "jupytext": {
   "formats": "py,ipynb"
  },
  "kernelspec": {
   "display_name": "Python 3",
   "language": "python",
   "name": "python3"
  },
  "language_info": {
   "codemirror_mode": {
    "name": "ipython",
    "version": 3
   },
   "file_extension": ".py",
   "mimetype": "text/x-python",
   "name": "python",
   "nbconvert_exporter": "python",
   "pygments_lexer": "ipython3",
   "version": "3.7.12"
  }
 },
 "nbformat": 4,
 "nbformat_minor": 4
}
