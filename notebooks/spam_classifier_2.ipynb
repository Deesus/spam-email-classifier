{
 "cells": [
  {
   "cell_type": "code",
   "execution_count": 127,
   "metadata": {
    "_cell_guid": "b1076dfc-b9ad-4769-8c92-a6c4dae69d19",
    "_uuid": "8f2839f25d086af736a60e9eeb907d3b93b6e0e5",
    "execution": {
     "iopub.execute_input": "2022-10-06T15:51:31.584479Z",
     "iopub.status.busy": "2022-10-06T15:51:31.584016Z",
     "iopub.status.idle": "2022-10-06T15:51:31.591411Z",
     "shell.execute_reply": "2022-10-06T15:51:31.590431Z",
     "shell.execute_reply.started": "2022-10-06T15:51:31.584441Z"
    }
   },
   "outputs": [],
   "source": [
    "import pandas as pd\n",
    "import glob\n",
    "import matplotlib.pyplot as plt\n",
    "import numpy as np\n",
    "\n",
    "from sklearn.metrics import classification_report, f1_score\n",
    "\n",
    "from datasets import load_dataset, Dataset\n",
    "from transformers import AutoTokenizer, DataCollatorWithPadding, TFAutoModelForSequenceClassification\n",
    "import tensorflow as tf"
   ]
  },
  {
   "cell_type": "markdown",
   "metadata": {},
   "source": [
    "### Read spam emails:"
   ]
  },
  {
   "cell_type": "code",
   "execution_count": 79,
   "metadata": {
    "execution": {
     "iopub.execute_input": "2022-10-06T14:02:34.973599Z",
     "iopub.status.busy": "2022-10-06T14:02:34.973110Z",
     "iopub.status.idle": "2022-10-06T14:02:34.984140Z",
     "shell.execute_reply": "2022-10-06T14:02:34.983035Z",
     "shell.execute_reply.started": "2022-10-06T14:02:34.973559Z"
    }
   },
   "outputs": [],
   "source": [
    "spam_file_paths = glob.iglob('../input/harvardspamemailenron/data/spam/**')\n",
    "df_spam = pd.DataFrame(columns=['text', 'label'])"
   ]
  },
  {
   "cell_type": "code",
   "execution_count": 80,
   "metadata": {
    "execution": {
     "iopub.execute_input": "2022-10-06T14:02:34.986413Z",
     "iopub.status.busy": "2022-10-06T14:02:34.985885Z",
     "iopub.status.idle": "2022-10-06T14:03:09.160369Z",
     "shell.execute_reply": "2022-10-06T14:03:09.159417Z",
     "shell.execute_reply.started": "2022-10-06T14:02:34.986326Z"
    }
   },
   "outputs": [],
   "source": [
    "for file_path in spam_file_paths:\n",
    "    text = ''\n",
    "    with open(file_path, 'r') as file:\n",
    "        for line in file:\n",
    "            text += line\n",
    "        df_spam = pd.concat([df_spam, pd.DataFrame({'text': text, 'label': [1]})], ignore_index=True)"
   ]
  },
  {
   "cell_type": "code",
   "execution_count": 81,
   "metadata": {
    "execution": {
     "iopub.execute_input": "2022-10-06T14:03:09.164378Z",
     "iopub.status.busy": "2022-10-06T14:03:09.162886Z",
     "iopub.status.idle": "2022-10-06T14:03:09.174441Z",
     "shell.execute_reply": "2022-10-06T14:03:09.173409Z",
     "shell.execute_reply.started": "2022-10-06T14:03:09.164339Z"
    }
   },
   "outputs": [
    {
     "data": {
      "text/html": [
       "<div>\n",
       "<style scoped>\n",
       "    .dataframe tbody tr th:only-of-type {\n",
       "        vertical-align: middle;\n",
       "    }\n",
       "\n",
       "    .dataframe tbody tr th {\n",
       "        vertical-align: top;\n",
       "    }\n",
       "\n",
       "    .dataframe thead th {\n",
       "        text-align: right;\n",
       "    }\n",
       "</style>\n",
       "<table border=\"1\" class=\"dataframe\">\n",
       "  <thead>\n",
       "    <tr style=\"text-align: right;\">\n",
       "      <th></th>\n",
       "      <th>text</th>\n",
       "      <th>label</th>\n",
       "    </tr>\n",
       "  </thead>\n",
       "  <tbody>\n",
       "    <tr>\n",
       "      <th>0</th>\n",
       "      <td>Subject: netgoodssale . com - electronic produ...</td>\n",
       "      <td>1</td>\n",
       "    </tr>\n",
       "    <tr>\n",
       "      <th>1</th>\n",
       "      <td>Subject: failure notice\\nhi . this is the qmai...</td>\n",
       "      <td>1</td>\n",
       "    </tr>\n",
       "    <tr>\n",
       "      <th>2</th>\n",
       "      <td>Subject: popular mechanics : do you need a fri...</td>\n",
       "      <td>1</td>\n",
       "    </tr>\n",
       "    <tr>\n",
       "      <th>3</th>\n",
       "      <td>Subject: \\nhtml\\nbody\\npfont face = arialbufon...</td>\n",
       "      <td>1</td>\n",
       "    </tr>\n",
       "    <tr>\n",
       "      <th>4</th>\n",
       "      <td>Subject: why pay more when you can pay less ! ...</td>\n",
       "      <td>1</td>\n",
       "    </tr>\n",
       "  </tbody>\n",
       "</table>\n",
       "</div>"
      ],
      "text/plain": [
       "                                                text label\n",
       "0  Subject: netgoodssale . com - electronic produ...     1\n",
       "1  Subject: failure notice\\nhi . this is the qmai...     1\n",
       "2  Subject: popular mechanics : do you need a fri...     1\n",
       "3  Subject: \\nhtml\\nbody\\npfont face = arialbufon...     1\n",
       "4  Subject: why pay more when you can pay less ! ...     1"
      ]
     },
     "execution_count": 81,
     "metadata": {},
     "output_type": "execute_result"
    }
   ],
   "source": [
    "df_spam.head()"
   ]
  },
  {
   "cell_type": "markdown",
   "metadata": {},
   "source": [
    "### Read ham emails:"
   ]
  },
  {
   "cell_type": "code",
   "execution_count": 82,
   "metadata": {
    "execution": {
     "iopub.execute_input": "2022-10-06T14:03:09.176541Z",
     "iopub.status.busy": "2022-10-06T14:03:09.175902Z",
     "iopub.status.idle": "2022-10-06T14:03:09.184877Z",
     "shell.execute_reply": "2022-10-06T14:03:09.183855Z",
     "shell.execute_reply.started": "2022-10-06T14:03:09.176505Z"
    }
   },
   "outputs": [],
   "source": [
    "ham_file_paths = glob.iglob('../input/harvardspamemailenron/data/ham/**')\n",
    "df_ham = pd.DataFrame(columns=['text', 'label'])"
   ]
  },
  {
   "cell_type": "code",
   "execution_count": 83,
   "metadata": {
    "execution": {
     "iopub.execute_input": "2022-10-06T14:03:09.187762Z",
     "iopub.status.busy": "2022-10-06T14:03:09.187468Z",
     "iopub.status.idle": "2022-10-06T14:03:53.581589Z",
     "shell.execute_reply": "2022-10-06T14:03:53.580602Z",
     "shell.execute_reply.started": "2022-10-06T14:03:09.187738Z"
    }
   },
   "outputs": [],
   "source": [
    "for file_path in ham_file_paths:\n",
    "    text = ''\n",
    "    with open(file_path, 'r') as file:\n",
    "        for line in file:\n",
    "            text += line\n",
    "\n",
    "        df_ham = pd.concat([df_ham, pd.DataFrame({'text': text, 'label': [0]})], ignore_index=True)"
   ]
  },
  {
   "cell_type": "code",
   "execution_count": 84,
   "metadata": {
    "execution": {
     "iopub.execute_input": "2022-10-06T14:03:53.583541Z",
     "iopub.status.busy": "2022-10-06T14:03:53.583147Z",
     "iopub.status.idle": "2022-10-06T14:03:53.594045Z",
     "shell.execute_reply": "2022-10-06T14:03:53.592892Z",
     "shell.execute_reply.started": "2022-10-06T14:03:53.583501Z"
    }
   },
   "outputs": [
    {
     "data": {
      "text/html": [
       "<div>\n",
       "<style scoped>\n",
       "    .dataframe tbody tr th:only-of-type {\n",
       "        vertical-align: middle;\n",
       "    }\n",
       "\n",
       "    .dataframe tbody tr th {\n",
       "        vertical-align: top;\n",
       "    }\n",
       "\n",
       "    .dataframe thead th {\n",
       "        text-align: right;\n",
       "    }\n",
       "</style>\n",
       "<table border=\"1\" class=\"dataframe\">\n",
       "  <thead>\n",
       "    <tr style=\"text-align: right;\">\n",
       "      <th></th>\n",
       "      <th>text</th>\n",
       "      <th>label</th>\n",
       "    </tr>\n",
       "  </thead>\n",
       "  <tbody>\n",
       "    <tr>\n",
       "      <th>0</th>\n",
       "      <td>Subject: re : wolf - reply - reply - reply\\nwr...</td>\n",
       "      <td>0</td>\n",
       "    </tr>\n",
       "    <tr>\n",
       "      <th>1</th>\n",
       "      <td>Subject: hilcorp old ocean\\ni have continued t...</td>\n",
       "      <td>0</td>\n",
       "    </tr>\n",
       "    <tr>\n",
       "      <th>2</th>\n",
       "      <td>Subject: merchanting metals update\\nseveral re...</td>\n",
       "      <td>0</td>\n",
       "    </tr>\n",
       "    <tr>\n",
       "      <th>3</th>\n",
       "      <td>Subject: meter 6461 , concorde churchill\\none ...</td>\n",
       "      <td>0</td>\n",
       "    </tr>\n",
       "    <tr>\n",
       "      <th>4</th>\n",
       "      <td>Subject: weekly deal report\\nattached is the w...</td>\n",
       "      <td>0</td>\n",
       "    </tr>\n",
       "  </tbody>\n",
       "</table>\n",
       "</div>"
      ],
      "text/plain": [
       "                                                text label\n",
       "0  Subject: re : wolf - reply - reply - reply\\nwr...     0\n",
       "1  Subject: hilcorp old ocean\\ni have continued t...     0\n",
       "2  Subject: merchanting metals update\\nseveral re...     0\n",
       "3  Subject: meter 6461 , concorde churchill\\none ...     0\n",
       "4  Subject: weekly deal report\\nattached is the w...     0"
      ]
     },
     "execution_count": 84,
     "metadata": {},
     "output_type": "execute_result"
    }
   ],
   "source": [
    "df_ham.head()"
   ]
  },
  {
   "cell_type": "markdown",
   "metadata": {},
   "source": [
    "## Explore Data"
   ]
  },
  {
   "cell_type": "code",
   "execution_count": 85,
   "metadata": {
    "execution": {
     "iopub.execute_input": "2022-10-06T14:03:53.596763Z",
     "iopub.status.busy": "2022-10-06T14:03:53.595902Z",
     "iopub.status.idle": "2022-10-06T14:03:53.772614Z",
     "shell.execute_reply": "2022-10-06T14:03:53.771734Z",
     "shell.execute_reply.started": "2022-10-06T14:03:53.596726Z"
    }
   },
   "outputs": [
    {
     "data": {
      "image/png": "[encoded data removed]",
      "text/plain": [
       "<Figure size 576x576 with 1 Axes>"
      ]
     },
     "metadata": {
      "needs_background": "light"
     },
     "output_type": "display_data"
    }
   ],
   "source": [
    "# Set size of plot:\n",
    "plt.rcParams[\"figure.figsize\"] = (8, 8)\n",
    "\n",
    "fig, ax = plt.subplots()\n",
    "ax.bar(\n",
    "    ['Ham', 'Spam'],\n",
    "    [len(df_ham), len(df_spam)],\n",
    "    color='blue',\n",
    "    alpha=0.72\n",
    ")\n",
    "\n",
    "plt.title('Document Count')\n",
    "plt.xlabel('Category')\n",
    "plt.ylabel('Number of examples')\n",
    "plt.show()"
   ]
  },
  {
   "cell_type": "code",
   "execution_count": 86,
   "metadata": {
    "execution": {
     "iopub.execute_input": "2022-10-06T14:03:53.774552Z",
     "iopub.status.busy": "2022-10-06T14:03:53.774200Z",
     "iopub.status.idle": "2022-10-06T14:03:53.787839Z",
     "shell.execute_reply": "2022-10-06T14:03:53.787003Z",
     "shell.execute_reply.started": "2022-10-06T14:03:53.774517Z"
    }
   },
   "outputs": [],
   "source": [
    "combined_dataset = pd.concat([df_ham, df_spam])\n",
    "\n",
    "# Shuffle data:\n",
    "combined_dataset = combined_dataset.sample(frac=1)"
   ]
  },
  {
   "cell_type": "code",
   "execution_count": 87,
   "metadata": {
    "execution": {
     "iopub.execute_input": "2022-10-06T14:03:53.792199Z",
     "iopub.status.busy": "2022-10-06T14:03:53.791918Z",
     "iopub.status.idle": "2022-10-06T14:03:53.796980Z",
     "shell.execute_reply": "2022-10-06T14:03:53.795947Z",
     "shell.execute_reply.started": "2022-10-06T14:03:53.792174Z"
    }
   },
   "outputs": [],
   "source": [
    "train_test_split = int(len(combined_dataset) * 0.9)\n",
    "\n",
    "train_set = combined_dataset[:train_test_split]\n",
    "test_set = combined_dataset[train_test_split:]"
   ]
  },
  {
   "cell_type": "code",
   "execution_count": 88,
   "metadata": {
    "execution": {
     "iopub.execute_input": "2022-10-06T14:03:53.798817Z",
     "iopub.status.busy": "2022-10-06T14:03:53.798394Z",
     "iopub.status.idle": "2022-10-06T14:03:54.509474Z",
     "shell.execute_reply": "2022-10-06T14:03:54.508486Z",
     "shell.execute_reply.started": "2022-10-06T14:03:53.798783Z"
    }
   },
   "outputs": [],
   "source": [
    "# Save data as csv:\n",
    "# combined_dataset.to_csv('../working/harvard_enron_email.csv', index=False)\n",
    "train_set.to_csv('../working/train_set.csv', index=False)\n",
    "test_set.to_csv('../working/test_set.csv', index=False)"
   ]
  },
  {
   "cell_type": "code",
   "execution_count": 89,
   "metadata": {
    "execution": {
     "iopub.execute_input": "2022-10-06T14:03:54.511052Z",
     "iopub.status.busy": "2022-10-06T14:03:54.510697Z",
     "iopub.status.idle": "2022-10-06T14:03:54.517197Z",
     "shell.execute_reply": "2022-10-06T14:03:54.516190Z",
     "shell.execute_reply.started": "2022-10-06T14:03:54.511010Z"
    }
   },
   "outputs": [
    {
     "name": "stdout",
     "output_type": "stream",
     "text": [
      "Ham Count: 16545\n",
      "Spam Count: 17171\n",
      "Total: 33716\n"
     ]
    }
   ],
   "source": [
    "len_ham = len(df_ham)\n",
    "len_spam = len(df_spam)\n",
    "print('Ham Count:', len_ham)\n",
    "print('Spam Count:', len_spam)\n",
    "print('Total:', len_spam + len_ham)"
   ]
  },
  {
   "cell_type": "code",
   "execution_count": 90,
   "metadata": {
    "execution": {
     "iopub.execute_input": "2022-10-06T14:03:54.519169Z",
     "iopub.status.busy": "2022-10-06T14:03:54.518465Z",
     "iopub.status.idle": "2022-10-06T14:03:54.542934Z",
     "shell.execute_reply": "2022-10-06T14:03:54.541926Z",
     "shell.execute_reply.started": "2022-10-06T14:03:54.519133Z"
    }
   },
   "outputs": [
    {
     "name": "stdout",
     "output_type": "stream",
     "text": [
      "Total number of examples: 33716\n",
      "Max length of document: 228377\n",
      "Avg length of documents: 1514\n",
      "Median length of documents: 720\n",
      "Std of document length: 4276\n"
     ]
    }
   ],
   "source": [
    "map_len = combined_dataset['text'].map(len)\n",
    "max_length = map_len.max()\n",
    "avg_length = map_len.sum() // len(combined_dataset)\n",
    "median_length = int(map_len.median())\n",
    "std_length = int(map_len.std())\n",
    "\n",
    "print('Total number of examples:', len(combined_dataset))\n",
    "print('Max length of document:', max_length)\n",
    "print('Avg length of documents:', avg_length)\n",
    "print('Median length of documents:', median_length)\n",
    "print('Std of document length:', std_length)"
   ]
  },
  {
   "cell_type": "code",
   "execution_count": 91,
   "metadata": {
    "execution": {
     "iopub.execute_input": "2022-10-06T14:03:54.544700Z",
     "iopub.status.busy": "2022-10-06T14:03:54.544280Z",
     "iopub.status.idle": "2022-10-06T14:03:54.563601Z",
     "shell.execute_reply": "2022-10-06T14:03:54.561404Z",
     "shell.execute_reply.started": "2022-10-06T14:03:54.544664Z"
    }
   },
   "outputs": [
    {
     "name": "stdout",
     "output_type": "stream",
     "text": [
      "Percent of documents that have character length greater than 2,000: 19.25%\n"
     ]
    }
   ],
   "source": [
    "MAX_CHAR_LENGTH = 2000\n",
    "\n",
    "percent_docs_over_2000 = combined_dataset['text'].map(lambda x: len(x) > MAX_CHAR_LENGTH).sum() / len(combined_dataset)\n",
    "print(f'Percent of documents that have character length greater than 2,000: {percent_docs_over_2000 * 100:.2f}%')"
   ]
  },
  {
   "cell_type": "markdown",
   "metadata": {},
   "source": [
    "## Process Data"
   ]
  },
  {
   "cell_type": "code",
   "execution_count": 92,
   "metadata": {
    "execution": {
     "iopub.execute_input": "2022-10-06T14:03:54.565792Z",
     "iopub.status.busy": "2022-10-06T14:03:54.565183Z",
     "iopub.status.idle": "2022-10-06T14:03:54.623602Z",
     "shell.execute_reply": "2022-10-06T14:03:54.622631Z",
     "shell.execute_reply.started": "2022-10-06T14:03:54.565758Z"
    }
   },
   "outputs": [],
   "source": [
    "dataset = Dataset.from_pandas(train_set)"
   ]
  },
  {
   "cell_type": "code",
   "execution_count": 93,
   "metadata": {
    "execution": {
     "iopub.execute_input": "2022-10-06T14:03:54.625559Z",
     "iopub.status.busy": "2022-10-06T14:03:54.625146Z",
     "iopub.status.idle": "2022-10-06T14:04:04.140361Z",
     "shell.execute_reply": "2022-10-06T14:04:04.139328Z",
     "shell.execute_reply.started": "2022-10-06T14:03:54.625472Z"
    }
   },
   "outputs": [],
   "source": [
    "MODEL_NAME = 'distilroberta-base'\n",
    "tokenizer = AutoTokenizer.from_pretrained(MODEL_NAME)"
   ]
  },
  {
   "cell_type": "code",
   "execution_count": 94,
   "metadata": {
    "execution": {
     "iopub.execute_input": "2022-10-06T14:04:04.142257Z",
     "iopub.status.busy": "2022-10-06T14:04:04.141867Z",
     "iopub.status.idle": "2022-10-06T14:04:04.167957Z",
     "shell.execute_reply": "2022-10-06T14:04:04.167142Z",
     "shell.execute_reply.started": "2022-10-06T14:04:04.142219Z"
    }
   },
   "outputs": [],
   "source": [
    "dataset = dataset.train_test_split(test_size=0.1)\n",
    "dataset = dataset.shuffle(seed=2)"
   ]
  },
  {
   "cell_type": "code",
   "execution_count": 95,
   "metadata": {
    "execution": {
     "iopub.execute_input": "2022-10-06T14:04:04.169697Z",
     "iopub.status.busy": "2022-10-06T14:04:04.169265Z",
     "iopub.status.idle": "2022-10-06T14:04:41.427655Z",
     "shell.execute_reply": "2022-10-06T14:04:41.426553Z",
     "shell.execute_reply.started": "2022-10-06T14:04:04.169658Z"
    }
   },
   "outputs": [
    {
     "data": {
      "application/vnd.jupyter.widget-view+json": {
       "model_id": "ed61498187044a2887f73dd5cc86c3fa",
       "version_major": 2,
       "version_minor": 0
      },
      "text/plain": [
       "  0%|          | 0/3414 [00:00<?, ?ba/s]"
      ]
     },
     "metadata": {},
     "output_type": "display_data"
    },
    {
     "data": {
      "application/vnd.jupyter.widget-view+json": {
       "model_id": "f72426f12cfb4c099e4d17c7624b6237",
       "version_major": 2,
       "version_minor": 0
      },
      "text/plain": [
       "  0%|          | 0/380 [00:00<?, ?ba/s]"
      ]
     },
     "metadata": {},
     "output_type": "display_data"
    },
    {
     "data": {
      "text/plain": [
       "DatasetDict({\n",
       "    train: Dataset({\n",
       "        features: ['text', 'label', '__index_level_0__', 'input_ids', 'attention_mask'],\n",
       "        num_rows: 27309\n",
       "    })\n",
       "    test: Dataset({\n",
       "        features: ['text', 'label', '__index_level_0__', 'input_ids', 'attention_mask'],\n",
       "        num_rows: 3035\n",
       "    })\n",
       "})"
      ]
     },
     "execution_count": 95,
     "metadata": {},
     "output_type": "execute_result"
    }
   ],
   "source": [
    "def preprocess(examples):\n",
    "    return tokenizer(examples['text'], truncation=True, max_length=MAX_CHAR_LENGTH)\n",
    "\n",
    "tokenized_data = dataset.map(preprocess, batched=True, batch_size=8)\n",
    "tokenized_data"
   ]
  },
  {
   "cell_type": "code",
   "execution_count": 96,
   "metadata": {
    "execution": {
     "iopub.execute_input": "2022-10-06T14:04:41.430316Z",
     "iopub.status.busy": "2022-10-06T14:04:41.430017Z",
     "iopub.status.idle": "2022-10-06T14:04:41.436236Z",
     "shell.execute_reply": "2022-10-06T14:04:41.435463Z",
     "shell.execute_reply.started": "2022-10-06T14:04:41.430290Z"
    }
   },
   "outputs": [],
   "source": [
    "batch_size = 2\n",
    "num_epochs = 15"
   ]
  },
  {
   "cell_type": "code",
   "execution_count": 97,
   "metadata": {
    "execution": {
     "iopub.execute_input": "2022-10-06T14:04:41.438382Z",
     "iopub.status.busy": "2022-10-06T14:04:41.437462Z",
     "iopub.status.idle": "2022-10-06T14:04:41.448380Z",
     "shell.execute_reply": "2022-10-06T14:04:41.447487Z",
     "shell.execute_reply.started": "2022-10-06T14:04:41.438347Z"
    }
   },
   "outputs": [],
   "source": [
    "batches_per_epoch = len(tokenized_data['train']) // batch_size\n",
    "total_train_steps = int(batches_per_epoch * num_epochs)"
   ]
  },
  {
   "cell_type": "code",
   "execution_count": 98,
   "metadata": {
    "execution": {
     "iopub.execute_input": "2022-10-06T14:04:41.450093Z",
     "iopub.status.busy": "2022-10-06T14:04:41.449683Z",
     "iopub.status.idle": "2022-10-06T14:04:41.458401Z",
     "shell.execute_reply": "2022-10-06T14:04:41.457406Z",
     "shell.execute_reply.started": "2022-10-06T14:04:41.450057Z"
    }
   },
   "outputs": [],
   "source": [
    "lr_scheduler = tf.keras.optimizers.schedules.PolynomialDecay(\n",
    "    initial_learning_rate=1e-5, end_learning_rate=5e-9, decay_steps=total_train_steps\n",
    ")"
   ]
  },
  {
   "cell_type": "code",
   "execution_count": 99,
   "metadata": {
    "execution": {
     "iopub.execute_input": "2022-10-06T14:04:41.460261Z",
     "iopub.status.busy": "2022-10-06T14:04:41.459802Z",
     "iopub.status.idle": "2022-10-06T14:04:41.468598Z",
     "shell.execute_reply": "2022-10-06T14:04:41.467977Z",
     "shell.execute_reply.started": "2022-10-06T14:04:41.460223Z"
    }
   },
   "outputs": [],
   "source": [
    "model_checkpoint_callback = tf.keras.callbacks.ModelCheckpoint(\n",
    "    filepath='/kaggle/working/checkpoints',\n",
    "    save_weights_only=True,\n",
    "    monitor='val_sparse_categorical_accuracy',\n",
    "    mode='max',\n",
    "    save_best_only=True\n",
    ")"
   ]
  },
  {
   "cell_type": "code",
   "execution_count": 100,
   "metadata": {
    "execution": {
     "iopub.execute_input": "2022-10-06T14:04:41.471042Z",
     "iopub.status.busy": "2022-10-06T14:04:41.469983Z",
     "iopub.status.idle": "2022-10-06T14:04:41.478529Z",
     "shell.execute_reply": "2022-10-06T14:04:41.477647Z",
     "shell.execute_reply.started": "2022-10-06T14:04:41.471007Z"
    }
   },
   "outputs": [],
   "source": [
    "class ThresholdStoppageCallback(tf.keras.callbacks.Callback):\n",
    "    def __init__(self, threshold):\n",
    "        super(ThresholdStoppageCallback, self).__init__()\n",
    "        self.threshold = threshold\n",
    "\n",
    "    def on_epoch_end(self, epoch, logs=None):\n",
    "        val_acc = logs[\"sparse_categorical_accuracy\"]\n",
    "        if val_acc >= self.threshold:\n",
    "            self.model.stop_training = True\n",
    "\n",
    "# If validaiton accuracy reaches 99.7% accuracy, stop training:\n",
    "threshold_stoppage_callback = ThresholdStoppageCallback(threshold=0.997)"
   ]
  },
  {
   "cell_type": "code",
   "execution_count": 101,
   "metadata": {
    "execution": {
     "iopub.execute_input": "2022-10-06T14:04:41.480457Z",
     "iopub.status.busy": "2022-10-06T14:04:41.480023Z",
     "iopub.status.idle": "2022-10-06T14:04:41.535670Z",
     "shell.execute_reply": "2022-10-06T14:04:41.534832Z",
     "shell.execute_reply.started": "2022-10-06T14:04:41.480414Z"
    }
   },
   "outputs": [],
   "source": [
    "tf_train_set = tokenized_data['train'].to_tf_dataset(\n",
    "    columns=['attention_mask', 'input_ids', 'label'],\n",
    "    shuffle=True,\n",
    "    batch_size=batch_size,\n",
    "    collate_fn=DataCollatorWithPadding(tokenizer=tokenizer, return_tensors='tf')\n",
    ")\n",
    "\n",
    "tf_validation_set = tokenized_data['test'].to_tf_dataset(\n",
    "    columns=['attention_mask', 'input_ids', 'label'],\n",
    "    shuffle=False,\n",
    "    batch_size=batch_size,\n",
    "    collate_fn=DataCollatorWithPadding(tokenizer=tokenizer, return_tensors='tf')\n",
    ")"
   ]
  },
  {
   "cell_type": "code",
   "execution_count": 102,
   "metadata": {
    "execution": {
     "iopub.execute_input": "2022-10-06T14:04:41.537353Z",
     "iopub.status.busy": "2022-10-06T14:04:41.537011Z",
     "iopub.status.idle": "2022-10-06T14:04:46.777751Z",
     "shell.execute_reply": "2022-10-06T14:04:46.776673Z",
     "shell.execute_reply.started": "2022-10-06T14:04:41.537321Z"
    }
   },
   "outputs": [
    {
     "name": "stderr",
     "output_type": "stream",
     "text": [
      "All model checkpoint layers were used when initializing TFRobertaForSequenceClassification.\n",
      "\n",
      "Some layers of TFRobertaForSequenceClassification were not initialized from the model checkpoint at distilroberta-base and are newly initialized: ['classifier']\n",
      "You should probably TRAIN this model on a down-stream task to be able to use it for predictions and inference.\n"
     ]
    }
   ],
   "source": [
    "model = TFAutoModelForSequenceClassification.from_pretrained(\n",
    "    MODEL_NAME,\n",
    "    num_labels=2\n",
    ")"
   ]
  },
  {
   "cell_type": "code",
   "execution_count": 103,
   "metadata": {
    "execution": {
     "iopub.execute_input": "2022-10-06T14:04:46.779857Z",
     "iopub.status.busy": "2022-10-06T14:04:46.779019Z",
     "iopub.status.idle": "2022-10-06T14:04:46.785825Z",
     "shell.execute_reply": "2022-10-06T14:04:46.784024Z",
     "shell.execute_reply.started": "2022-10-06T14:04:46.779819Z"
    }
   },
   "outputs": [],
   "source": [
    "# Free up some memory:\n",
    "del tokenized_data\n",
    "del dataset\n",
    "del combined_dataset\n",
    "del train_set"
   ]
  },
  {
   "cell_type": "code",
   "execution_count": 104,
   "metadata": {
    "execution": {
     "iopub.execute_input": "2022-10-06T14:04:46.787961Z",
     "iopub.status.busy": "2022-10-06T14:04:46.787289Z",
     "iopub.status.idle": "2022-10-06T14:04:46.805204Z",
     "shell.execute_reply": "2022-10-06T14:04:46.804460Z",
     "shell.execute_reply.started": "2022-10-06T14:04:46.787912Z"
    }
   },
   "outputs": [],
   "source": [
    "# TODO: update file path to local:\n",
    "# model.load_weights('./data/saved_weights/distilroberta-base/weights_v2.h5')"
   ]
  },
  {
   "cell_type": "code",
   "execution_count": 105,
   "metadata": {
    "execution": {
     "iopub.execute_input": "2022-10-06T14:04:46.810892Z",
     "iopub.status.busy": "2022-10-06T14:04:46.810417Z",
     "iopub.status.idle": "2022-10-06T14:04:46.832999Z",
     "shell.execute_reply": "2022-10-06T14:04:46.831912Z",
     "shell.execute_reply.started": "2022-10-06T14:04:46.810866Z"
    }
   },
   "outputs": [],
   "source": [
    "model.compile(\n",
    "    optimizer=tf.keras.optimizers.Adam(learning_rate=lr_scheduler),\n",
    "    loss=tf.keras.losses.SparseCategoricalCrossentropy(from_logits=True),\n",
    "    metrics=[tf.keras.metrics.SparseCategoricalAccuracy()]\n",
    ")"
   ]
  },
  {
   "cell_type": "code",
   "execution_count": 106,
   "metadata": {
    "execution": {
     "iopub.execute_input": "2022-10-06T14:04:46.834777Z",
     "iopub.status.busy": "2022-10-06T14:04:46.834340Z",
     "iopub.status.idle": "2022-10-06T15:29:09.831322Z",
     "shell.execute_reply": "2022-10-06T15:29:09.830355Z",
     "shell.execute_reply.started": "2022-10-06T14:04:46.834742Z"
    }
   },
   "outputs": [
    {
     "name": "stdout",
     "output_type": "stream",
     "text": [
      "Epoch 1/15\n",
      "13654/13654 [==============================] - 1663s 121ms/step - loss: 0.0542 - sparse_categorical_accuracy: 0.9805 - val_loss: 0.0153 - val_sparse_categorical_accuracy: 0.9951\n",
      "Epoch 2/15\n",
      "13654/13654 [==============================] - 1650s 121ms/step - loss: 0.0139 - sparse_categorical_accuracy: 0.9950 - val_loss: 0.0150 - val_sparse_categorical_accuracy: 0.9964\n",
      "Epoch 3/15\n",
      "13654/13654 [==============================] - 1652s 121ms/step - loss: 0.0084 - sparse_categorical_accuracy: 0.9975 - val_loss: 0.0211 - val_sparse_categorical_accuracy: 0.9954\n"
     ]
    }
   ],
   "source": [
    "model_history = model.fit(\n",
    "    tf_train_set,\n",
    "    validation_data=tf_validation_set,\n",
    "    epochs=num_epochs,\n",
    "    callbacks=[model_checkpoint_callback, threshold_stoppage_callback]\n",
    ")"
   ]
  },
  {
   "cell_type": "code",
   "execution_count": 107,
   "metadata": {
    "execution": {
     "iopub.execute_input": "2022-10-06T15:29:09.833304Z",
     "iopub.status.busy": "2022-10-06T15:29:09.832997Z",
     "iopub.status.idle": "2022-10-06T15:29:10.544169Z",
     "shell.execute_reply": "2022-10-06T15:29:10.543014Z",
     "shell.execute_reply.started": "2022-10-06T15:29:09.833276Z"
    }
   },
   "outputs": [],
   "source": [
    "# Save weights:\n",
    "model.save_weights('../working/saved_weights/distilroberta-base/weights_v1.h5')"
   ]
  },
  {
   "cell_type": "markdown",
   "metadata": {},
   "source": [
    "## Model Evaluation:"
   ]
  },
  {
   "cell_type": "code",
   "execution_count": 135,
   "metadata": {
    "execution": {
     "iopub.execute_input": "2022-10-06T15:55:19.155277Z",
     "iopub.status.busy": "2022-10-06T15:55:19.154805Z",
     "iopub.status.idle": "2022-10-06T15:55:19.418409Z",
     "shell.execute_reply": "2022-10-06T15:55:19.417445Z",
     "shell.execute_reply.started": "2022-10-06T15:55:19.155234Z"
    }
   },
   "outputs": [
    {
     "data": {
      "image/png": "[encoded data removed]",
      "text/plain": [
       "<Figure size 864x576 with 1 Axes>"
      ]
     },
     "metadata": {
      "needs_background": "light"
     },
     "output_type": "display_data"
    }
   ],
   "source": [
    "# Increase figure size:\n",
    "plt.rcParams[\"figure.figsize\"] = (12,8)\n",
    "\n",
    "# Plot accuracy:\n",
    "plt.plot(model_history.history['sparse_categorical_accuracy'], label='accuracy')\n",
    "plt.plot(model_history.history['val_sparse_categorical_accuracy'], label='val_accuracy')\n",
    "plt.legend()\n",
    "plt.xlabel('Iterations')\n",
    "plt.ylabel('Accuracy (%)')\n",
    "plt.title('Accuracy')\n",
    "plt.show()"
   ]
  },
  {
   "cell_type": "code",
   "execution_count": 123,
   "metadata": {
    "execution": {
     "iopub.execute_input": "2022-10-06T15:46:12.684040Z",
     "iopub.status.busy": "2022-10-06T15:46:12.683682Z",
     "iopub.status.idle": "2022-10-06T15:46:12.690077Z",
     "shell.execute_reply": "2022-10-06T15:46:12.688996Z",
     "shell.execute_reply.started": "2022-10-06T15:46:12.684009Z"
    }
   },
   "outputs": [],
   "source": [
    "def predict(text: str):\n",
    "    encoded_input = tokenizer.encode(\n",
    "        text,\n",
    "        truncation=True,\n",
    "        padding=True,\n",
    "        max_length=MAX_CHAR_LENGTH,\n",
    "        return_tensors=\"tf\"\n",
    "    )\n",
    "    \n",
    "    # Make prediction from logits:\n",
    "    prediction = model.predict(encoded_input)['logits']\n",
    "    prediction = tf.nn.softmax(prediction)\n",
    "    prediction = np.argmax(prediction)\n",
    "    \n",
    "    return prediction"
   ]
  },
  {
   "cell_type": "code",
   "execution_count": 126,
   "metadata": {
    "execution": {
     "iopub.execute_input": "2022-10-06T15:48:01.843923Z",
     "iopub.status.busy": "2022-10-06T15:48:01.843555Z",
     "iopub.status.idle": "2022-10-06T15:51:12.690567Z",
     "shell.execute_reply": "2022-10-06T15:51:12.689619Z",
     "shell.execute_reply.started": "2022-10-06T15:48:01.843891Z"
    }
   },
   "outputs": [],
   "source": [
    "predictions = [predict(x) for x in test_set['text']]"
   ]
  },
  {
   "cell_type": "code",
   "execution_count": 137,
   "metadata": {
    "execution": {
     "iopub.execute_input": "2022-10-06T16:02:51.055885Z",
     "iopub.status.busy": "2022-10-06T16:02:51.055176Z",
     "iopub.status.idle": "2022-10-06T16:02:51.063585Z",
     "shell.execute_reply": "2022-10-06T16:02:51.062313Z",
     "shell.execute_reply.started": "2022-10-06T16:02:51.055846Z"
    }
   },
   "outputs": [],
   "source": [
    "test_set_y = test_set['label'].aggregateto_list()"
   ]
  },
  {
   "cell_type": "code",
   "execution_count": 138,
   "metadata": {
    "execution": {
     "iopub.execute_input": "2022-10-06T16:02:59.425680Z",
     "iopub.status.busy": "2022-10-06T16:02:59.425070Z",
     "iopub.status.idle": "2022-10-06T16:02:59.441503Z",
     "shell.execute_reply": "2022-10-06T16:02:59.440393Z",
     "shell.execute_reply.started": "2022-10-06T16:02:59.425640Z"
    }
   },
   "outputs": [
    {
     "data": {
      "text/plain": [
       "0.9958481613285883"
      ]
     },
     "execution_count": 138,
     "metadata": {},
     "output_type": "execute_result"
    }
   ],
   "source": [
    "f1_score(test_set_y, predictions, average=\"macro\")"
   ]
  },
  {
   "cell_type": "code",
   "execution_count": 141,
   "metadata": {
    "execution": {
     "iopub.execute_input": "2022-10-06T16:14:08.165311Z",
     "iopub.status.busy": "2022-10-06T16:14:08.164937Z",
     "iopub.status.idle": "2022-10-06T16:14:08.183700Z",
     "shell.execute_reply": "2022-10-06T16:14:08.182674Z",
     "shell.execute_reply.started": "2022-10-06T16:14:08.165278Z"
    }
   },
   "outputs": [
    {
     "name": "stdout",
     "output_type": "stream",
     "text": [
      "              precision    recall  f1-score   support\n",
      "\n",
      "           0       1.00      1.00      1.00      1685\n",
      "           1       1.00      1.00      1.00      1687\n",
      "\n",
      "    accuracy                           1.00      3372\n",
      "   macro avg       1.00      1.00      1.00      3372\n",
      "weighted avg       1.00      1.00      1.00      3372\n",
      "\n"
     ]
    }
   ],
   "source": [
    "print(classification_report(test_set_y, predictions))"
   ]
  },
  {
   "cell_type": "code",
   "execution_count": null,
   "metadata": {},
   "outputs": [],
   "source": []
  }
 ],
 "metadata": {
  "jupytext": {
   "formats": "py,ipynb"
  },
  "kernelspec": {
   "display_name": "Python 3",
   "language": "python",
   "name": "python3"
  },
  "language_info": {
   "codemirror_mode": {
    "name": "ipython",
    "version": 3
   },
   "file_extension": ".py",
   "mimetype": "text/x-python",
   "name": "python",
   "nbconvert_exporter": "python",
   "pygments_lexer": "ipython3",
   "version": "3.7.12"
  }
 },
 "nbformat": 4,
 "nbformat_minor": 4
}
